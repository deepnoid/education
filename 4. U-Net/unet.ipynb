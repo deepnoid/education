{
 "cells": [
  {
   "cell_type": "code",
   "execution_count": null,
   "metadata": {},
   "outputs": [],
   "source": [
    "import os\n",
    "import numpy as np # linear algebra\n",
    "import cv2\n",
    "import matplotlib.pyplot as plt\n",
    "from sklearn.model_selection import train_test_split"
   ]
  },
  {
   "cell_type": "code",
   "execution_count": null,
   "metadata": {},
   "outputs": [],
   "source": [
    "from keras.models import Model\n",
    "from keras.layers import *\n",
    "from keras.optimizers import Adam\n",
    "from keras.regularizers import l2\n",
    "from keras.preprocessing.image import ImageDataGenerator\n",
    "import keras.backend as K\n",
    "from keras.callbacks import LearningRateScheduler, ModelCheckpoint"
   ]
  },
  {
   "cell_type": "code",
   "execution_count": null,
   "metadata": {},
   "outputs": [],
   "source": [
    "IMAGE_LIB = './input/2d_image/'\n",
    "MASK_LIB = './input/2d_mask/'\n",
    "IMG_HEIGHT, IMG_WIDTH = 64, 64\n",
    "SEED = 42"
   ]
  },
  {
   "cell_type": "code",
   "execution_count": null,
   "metadata": {},
   "outputs": [],
   "source": [
    "all_images = [x for x in sorted(os.listdir(IMAGE_LIB)) if x[-4:] == '.jpg']\n",
    "\n",
    "x_data = np.empty((len(all_images), IMG_HEIGHT, IMG_WIDTH), dtype='float32')\n",
    "for i, name in enumerate(all_images):\n",
    "    im = cv2.imread(IMAGE_LIB + name, cv2.IMREAD_UNCHANGED).astype(\"int16\").astype('float32')\n",
    "    im = cv2.resize(im, dsize=(IMG_WIDTH, IMG_HEIGHT), interpolation=cv2.INTER_LANCZOS4)\n",
    "    im = (im - np.min(im)) / (np.max(im) - np.min(im))\n",
    "    x_data[i] = im\n",
    "\n",
    "y_data = np.empty((len(all_images), IMG_HEIGHT, IMG_WIDTH), dtype='float32')\n",
    "for i, name in enumerate(all_images):\n",
    "    im = cv2.imread(MASK_LIB + name, cv2.IMREAD_UNCHANGED).astype('float32') / 255.\n",
    "    im = cv2.resize(im, dsize=(IMG_WIDTH, IMG_HEIGHT), interpolation=cv2.INTER_NEAREST)\n",
    "    y_data[i] = im"
   ]
  },
  {
   "cell_type": "code",
   "execution_count": null,
   "metadata": {},
   "outputs": [],
   "source": [
    "fig, ax = plt.subplots(1, 2, figsize=(8, 4))\n",
    "ax[0].imshow(x_data[0], cmap='gray')\n",
    "ax[1].imshow(y_data[0], cmap='gray')\n",
    "plt.show()"
   ]
  },
  {
   "cell_type": "code",
   "execution_count": null,
   "metadata": {},
   "outputs": [],
   "source": [
    "x_data = x_data[:, :, :, np.newaxis]\n",
    "y_data = y_data[:, :, :, np.newaxis]\n",
    "x_train, x_val, y_train, y_val = train_test_split(x_data, y_data, test_size=0.5)"
   ]
  },
  {
   "cell_type": "code",
   "execution_count": null,
   "metadata": {},
   "outputs": [],
   "source": [
    "def dice_coef(y_true, y_pred):\n",
    "    y_true_f = K.flatten(y_true)\n",
    "    y_pred_f = K.flatten(y_pred)\n",
    "    intersection = K.sum(y_true_f * y_pred_f)\n",
    "    return (2. * intersection + K.epsilon()) / (K.sum(y_true_f) + K.sum(y_pred_f) + K.epsilon())"
   ]
  },
  {
   "cell_type": "code",
   "execution_count": null,
   "metadata": {},
   "outputs": [],
   "source": [
    "input_layer = Input(shape=x_train.shape[1:])\n",
    "c1 = Conv2D(filters=8, kernel_size=(3, 3), activation='relu', padding='same')(input_layer)\n",
    "l = MaxPool2D(strides=(2, 2))(c1)\n",
    "c2 = Conv2D(filters=16, kernel_size=(3, 3), activation='relu', padding='same')(l)\n",
    "l = MaxPool2D(strides=(2, 2))(c2)\n",
    "c3 = Conv2D(filters=32, kernel_size=(3, 3), activation='relu', padding='same')(l)\n",
    "l = MaxPool2D(strides=(2, 2))(c3)\n",
    "c4 = Conv2D(filters=32, kernel_size=(1, 1), activation='relu', padding='same')(l)\n",
    "l = concatenate([UpSampling2D(size=(2, 2))(c4), c3], axis=-1)\n",
    "l = Conv2D(filters=32, kernel_size=(2, 2), activation='relu', padding='same')(l)\n",
    "l = concatenate([UpSampling2D(size=(2, 2))(l), c2], axis=-1)\n",
    "l = Conv2D(filters=24, kernel_size=(2, 2), activation='relu', padding='same')(l)\n",
    "l = concatenate([UpSampling2D(size=(2, 2))(l), c1], axis=-1)\n",
    "l = Conv2D(filters=16, kernel_size=(2, 2), activation='relu', padding='same')(l)\n",
    "l = Conv2D(filters=64, kernel_size=(1, 1), activation='relu')(l)\n",
    "l = Dropout(0.5)(l)\n",
    "output_layer = Conv2D(filters=1, kernel_size=(1, 1), activation='sigmoid')(l)\n",
    "                                                         \n",
    "model = Model(input_layer, output_layer)"
   ]
  },
  {
   "cell_type": "code",
   "execution_count": null,
   "metadata": {},
   "outputs": [],
   "source": [
    "def my_generator(x_train, y_train, batch_size):\n",
    "    data_generator = ImageDataGenerator(\n",
    "            width_shift_range=0.1,\n",
    "            height_shift_range=0.1,\n",
    "            rotation_range=10,\n",
    "            zoom_range=0.1).flow(x_train, x_train, batch_size, seed=SEED)\n",
    "    mask_generator = ImageDataGenerator(\n",
    "            width_shift_range=0.1,\n",
    "            height_shift_range=0.1,\n",
    "            rotation_range=10,\n",
    "            zoom_range=0.1).flow(y_train, y_train, batch_size, seed=SEED)\n",
    "    while True:\n",
    "        x_batch, _ = data_generator.next()\n",
    "        y_batch, _ = mask_generator.next()\n",
    "        yield x_batch, y_batch"
   ]
  },
  {
   "cell_type": "code",
   "execution_count": null,
   "metadata": {},
   "outputs": [],
   "source": [
    "image_batch, mask_batch = next(my_generator(x_train, y_train, 8))\n",
    "fix, ax = plt.subplots(8, 2, figsize=(8, 20))\n",
    "for i in range(8):\n",
    "    ax[i, 0].imshow(image_batch[i, :, :, 0])\n",
    "    ax[i, 1].imshow(mask_batch[i, :, :, 0])\n",
    "plt.show()"
   ]
  },
  {
   "cell_type": "code",
   "execution_count": null,
   "metadata": {},
   "outputs": [],
   "source": [
    "model.compile(optimizer=Adam(2e-4), loss='binary_crossentropy', metrics=[dice_coef])"
   ]
  },
  {
   "cell_type": "code",
   "execution_count": null,
   "metadata": {},
   "outputs": [],
   "source": [
    "weight_saver = ModelCheckpoint('lung.h5', monitor='val_dice_coef', save_best_only=True, save_weights_only=True)\n",
    "annealer = LearningRateScheduler(lambda x: 1e-3 * 0.8 ** x)"
   ]
  },
  {
   "cell_type": "code",
   "execution_count": null,
   "metadata": {},
   "outputs": [],
   "source": [
    "hist = model.fit_generator(my_generator(x_train, y_train, 8),\n",
    "                           steps_per_epoch=200,\n",
    "                           validation_data=(x_val, y_val),\n",
    "                           epochs=10,\n",
    "                           verbose=2,\n",
    "                           callbacks=[weight_saver, annealer])"
   ]
  },
  {
   "cell_type": "code",
   "execution_count": null,
   "metadata": {},
   "outputs": [],
   "source": [
    "model.load_weights('lung.h5')"
   ]
  },
  {
   "cell_type": "code",
   "execution_count": null,
   "metadata": {},
   "outputs": [],
   "source": [
    "plt.plot(hist.history['loss'], color='b')\n",
    "plt.plot(hist.history['val_loss'], color='r')\n",
    "plt.show()\n",
    "plt.plot(hist.history['dice_coef'], color='b')\n",
    "plt.plot(hist.history['val_dice_coef'], color='r')\n",
    "plt.show()"
   ]
  },
  {
   "cell_type": "code",
   "execution_count": null,
   "metadata": {},
   "outputs": [],
   "source": [
    "plt.imshow(model.predict(x_train[0].reshape(1, IMG_HEIGHT, IMG_WIDTH, 1))[0, :, :, 0], cmap='gray')"
   ]
  },
  {
   "cell_type": "code",
   "execution_count": null,
   "metadata": {},
   "outputs": [],
   "source": [
    "y_hat = model.predict(x_val)\n",
    "fig, ax = plt.subplots(1, 3, figsize=(12, 6))\n",
    "ax[0].imshow(x_val[0, :, :, 0], cmap='gray')\n",
    "ax[1].imshow(y_val[0, :, :, 0])\n",
    "ax[2].imshow(y_hat[0, :, :, 0])"
   ]
  },
  {
   "cell_type": "code",
   "execution_count": null,
   "metadata": {},
   "outputs": [],
   "source": [
    "fig, ax = plt.subplots(1, 3, figsize=(12, 6))\n",
    "ax[0].imshow(x_val[1, :, :, 0], cmap='gray')\n",
    "ax[1].imshow(y_val[1, :, :, 0])\n",
    "ax[2].imshow(y_hat[1, :, :, 0])"
   ]
  },
  {
   "cell_type": "code",
   "execution_count": null,
   "metadata": {},
   "outputs": [],
   "source": [
    "fig, ax = plt.subplots(1, 3, figsize=(12, 6))\n",
    "ax[0].imshow(x_val[2, :, :, 0], cmap='gray')\n",
    "ax[1].imshow(y_val[2, :, :, 0])\n",
    "ax[2].imshow(y_hat[2, :, :, 0])"
   ]
  },
  {
   "cell_type": "code",
   "execution_count": null,
   "metadata": {},
   "outputs": [],
   "source": []
  }
 ],
 "metadata": {
  "kernelspec": {
   "display_name": "Python 3",
   "language": "python",
   "name": "python3"
  },
  "language_info": {
   "codemirror_mode": {
    "name": "ipython",
    "version": 3
   },
   "file_extension": ".py",
   "mimetype": "text/x-python",
   "name": "python",
   "nbconvert_exporter": "python",
   "pygments_lexer": "ipython3",
   "version": "3.6.7"
  }
 },
 "nbformat": 4,
 "nbformat_minor": 2
}
