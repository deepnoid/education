{
 "cells": [
  {
   "cell_type": "markdown",
   "metadata": {},
   "source": [
    "# 모듈 불러오기"
   ]
  },
  {
   "cell_type": "code",
   "execution_count": 2,
   "metadata": {},
   "outputs": [],
   "source": [
    "from keras.models import Model\n",
    "from keras.layers import *\n",
    "from keras.optimizers import Adam\n",
    "from keras.regularizers import l2\n",
    "from keras.preprocessing.image import ImageDataGenerator\n",
    "from keras.callbacks import LearningRateScheduler, ModelCheckpoint\n",
    "from sklearn.preprocessing import scale\n",
    "from sklearn.model_selection import train_test_split\n",
    "import keras.backend as K\n",
    "import os\n",
    "import numpy as np\n",
    "import cv2\n",
    "import matplotlib.pyplot as plt\n",
    "import glob"
   ]
  },
  {
   "cell_type": "markdown",
   "metadata": {},
   "source": [
    "# **경로 설정하기**"
   ]
  },
  {
   "cell_type": "code",
   "execution_count": 3,
   "metadata": {},
   "outputs": [],
   "source": [
    "BASE_PATH = 'D:\\\\yonsei_tutoring'\n",
    "IMG_DATA_PATH = os.path.join(BASE_PATH, 'segmentation', 'lung_cancer', 'input', '2d_images')\n",
    "MASK_DATA_PATH = os.path.join(BASE_PATH, 'segmentation', 'lung_cancer', 'input', '2d_masks')"
   ]
  },
  {
   "cell_type": "markdown",
   "metadata": {},
   "source": [
    "# **하이퍼 파라미터**\n",
    "하이퍼 파라미터를 이용해 인공지능 모델을 조정합니다.  \n",
    "주로 사용하는 하이퍼 파라미터는 다음과 같습니다."
   ]
  },
  {
   "cell_type": "code",
   "execution_count": 4,
   "metadata": {},
   "outputs": [],
   "source": [
    "IMG_HEIGHT, IMG_WIDTH = (96, 96) # 이미지 사이즈\n",
    "EPOCHS = 10                      # 훈련 횟수\n",
    "BATCH_SIZE = 5                   # 한번에 입력할 데이터 개수 \n",
    "INIT_FILTERS = 32                # 모델 채널 크기\n",
    "LEARNING_RATE = 2e-4             # 학습률\n",
    "DECAY_RATE = 0.9                 # 학습률 감소 비율 \n",
    "ACTIVATION_FN = 'elu'            # 활성함수 ex: relu, elu, sigmoid\n",
    "DROP_RATE = 0.25                 # 드롭아웃 비율\n",
    "VAL_RATIO = 0.2                  # 검증 데이터 비율"
   ]
  },
  {
   "cell_type": "markdown",
   "metadata": {},
   "source": [
    "# **데이터 불러오기**\n",
    "\n",
    "이미지와 레이블 데이터를 불러옵니다.  \n",
    "glob.glob 함수를 이용해 경로에 있는 파일들을 검색할 수 있습니다."
   ]
  },
  {
   "cell_type": "code",
   "execution_count": 5,
   "metadata": {},
   "outputs": [],
   "source": [
    "img_path = sorted(glob.glob(IMG_DATA_PATH + '\\\\*.tif'))\n",
    "mask_path = sorted(glob.glob(MASK_DATA_PATH + '\\\\*.tif'))"
   ]
  },
  {
   "cell_type": "code",
   "execution_count": 6,
   "metadata": {},
   "outputs": [
    {
     "data": {
      "text/plain": [
       "['D:\\\\yonsei_tutoring\\\\segmentation\\\\lung_cancer\\\\input\\\\2d_images\\\\ID_0000_Z_0142.tif',\n",
       " 'D:\\\\yonsei_tutoring\\\\segmentation\\\\lung_cancer\\\\input\\\\2d_images\\\\ID_0001_Z_0146.tif',\n",
       " 'D:\\\\yonsei_tutoring\\\\segmentation\\\\lung_cancer\\\\input\\\\2d_images\\\\ID_0002_Z_0162.tif',\n",
       " 'D:\\\\yonsei_tutoring\\\\segmentation\\\\lung_cancer\\\\input\\\\2d_images\\\\ID_0003_Z_0132.tif',\n",
       " 'D:\\\\yonsei_tutoring\\\\segmentation\\\\lung_cancer\\\\input\\\\2d_images\\\\ID_0004_Z_0066.tif',\n",
       " 'D:\\\\yonsei_tutoring\\\\segmentation\\\\lung_cancer\\\\input\\\\2d_images\\\\ID_0005_Z_0066.tif',\n",
       " 'D:\\\\yonsei_tutoring\\\\segmentation\\\\lung_cancer\\\\input\\\\2d_images\\\\ID_0006_Z_0206.tif',\n",
       " 'D:\\\\yonsei_tutoring\\\\segmentation\\\\lung_cancer\\\\input\\\\2d_images\\\\ID_0007_Z_0211.tif',\n",
       " 'D:\\\\yonsei_tutoring\\\\segmentation\\\\lung_cancer\\\\input\\\\2d_images\\\\ID_0008_Z_0065.tif',\n",
       " 'D:\\\\yonsei_tutoring\\\\segmentation\\\\lung_cancer\\\\input\\\\2d_images\\\\ID_0009_Z_0114.tif',\n",
       " 'D:\\\\yonsei_tutoring\\\\segmentation\\\\lung_cancer\\\\input\\\\2d_images\\\\ID_0010_Z_0259.tif',\n",
       " 'D:\\\\yonsei_tutoring\\\\segmentation\\\\lung_cancer\\\\input\\\\2d_images\\\\ID_0011_Z_0156.tif',\n",
       " 'D:\\\\yonsei_tutoring\\\\segmentation\\\\lung_cancer\\\\input\\\\2d_images\\\\ID_0012_Z_0167.tif',\n",
       " 'D:\\\\yonsei_tutoring\\\\segmentation\\\\lung_cancer\\\\input\\\\2d_images\\\\ID_0013_Z_0047.tif',\n",
       " 'D:\\\\yonsei_tutoring\\\\segmentation\\\\lung_cancer\\\\input\\\\2d_images\\\\ID_0014_Z_0116.tif',\n",
       " 'D:\\\\yonsei_tutoring\\\\segmentation\\\\lung_cancer\\\\input\\\\2d_images\\\\ID_0015_Z_0136.tif',\n",
       " 'D:\\\\yonsei_tutoring\\\\segmentation\\\\lung_cancer\\\\input\\\\2d_images\\\\ID_0016_Z_0208.tif',\n",
       " 'D:\\\\yonsei_tutoring\\\\segmentation\\\\lung_cancer\\\\input\\\\2d_images\\\\ID_0017_Z_0061.tif',\n",
       " 'D:\\\\yonsei_tutoring\\\\segmentation\\\\lung_cancer\\\\input\\\\2d_images\\\\ID_0018_Z_0069.tif',\n",
       " 'D:\\\\yonsei_tutoring\\\\segmentation\\\\lung_cancer\\\\input\\\\2d_images\\\\ID_0019_Z_0088.tif',\n",
       " 'D:\\\\yonsei_tutoring\\\\segmentation\\\\lung_cancer\\\\input\\\\2d_images\\\\ID_0020_Z_0070.tif',\n",
       " 'D:\\\\yonsei_tutoring\\\\segmentation\\\\lung_cancer\\\\input\\\\2d_images\\\\ID_0021_Z_0066.tif',\n",
       " 'D:\\\\yonsei_tutoring\\\\segmentation\\\\lung_cancer\\\\input\\\\2d_images\\\\ID_0022_Z_0131.tif',\n",
       " 'D:\\\\yonsei_tutoring\\\\segmentation\\\\lung_cancer\\\\input\\\\2d_images\\\\ID_0023_Z_0241.tif',\n",
       " 'D:\\\\yonsei_tutoring\\\\segmentation\\\\lung_cancer\\\\input\\\\2d_images\\\\ID_0024_Z_0086.tif',\n",
       " 'D:\\\\yonsei_tutoring\\\\segmentation\\\\lung_cancer\\\\input\\\\2d_images\\\\ID_0025_Z_0112.tif',\n",
       " 'D:\\\\yonsei_tutoring\\\\segmentation\\\\lung_cancer\\\\input\\\\2d_images\\\\ID_0026_Z_0140.tif',\n",
       " 'D:\\\\yonsei_tutoring\\\\segmentation\\\\lung_cancer\\\\input\\\\2d_images\\\\ID_0027_Z_0125.tif',\n",
       " 'D:\\\\yonsei_tutoring\\\\segmentation\\\\lung_cancer\\\\input\\\\2d_images\\\\ID_0028_Z_0125.tif',\n",
       " 'D:\\\\yonsei_tutoring\\\\segmentation\\\\lung_cancer\\\\input\\\\2d_images\\\\ID_0029_Z_0059.tif',\n",
       " 'D:\\\\yonsei_tutoring\\\\segmentation\\\\lung_cancer\\\\input\\\\2d_images\\\\ID_0030_Z_0302.tif',\n",
       " 'D:\\\\yonsei_tutoring\\\\segmentation\\\\lung_cancer\\\\input\\\\2d_images\\\\ID_0031_Z_0232.tif',\n",
       " 'D:\\\\yonsei_tutoring\\\\segmentation\\\\lung_cancer\\\\input\\\\2d_images\\\\ID_0032_Z_0055.tif',\n",
       " 'D:\\\\yonsei_tutoring\\\\segmentation\\\\lung_cancer\\\\input\\\\2d_images\\\\ID_0033_Z_0278.tif',\n",
       " 'D:\\\\yonsei_tutoring\\\\segmentation\\\\lung_cancer\\\\input\\\\2d_images\\\\ID_0034_Z_0066.tif',\n",
       " 'D:\\\\yonsei_tutoring\\\\segmentation\\\\lung_cancer\\\\input\\\\2d_images\\\\ID_0035_Z_0224.tif',\n",
       " 'D:\\\\yonsei_tutoring\\\\segmentation\\\\lung_cancer\\\\input\\\\2d_images\\\\ID_0036_Z_0060.tif',\n",
       " 'D:\\\\yonsei_tutoring\\\\segmentation\\\\lung_cancer\\\\input\\\\2d_images\\\\ID_0037_Z_0150.tif',\n",
       " 'D:\\\\yonsei_tutoring\\\\segmentation\\\\lung_cancer\\\\input\\\\2d_images\\\\ID_0038_Z_0148.tif',\n",
       " 'D:\\\\yonsei_tutoring\\\\segmentation\\\\lung_cancer\\\\input\\\\2d_images\\\\ID_0039_Z_0112.tif',\n",
       " 'D:\\\\yonsei_tutoring\\\\segmentation\\\\lung_cancer\\\\input\\\\2d_images\\\\ID_0040_Z_0066.tif',\n",
       " 'D:\\\\yonsei_tutoring\\\\segmentation\\\\lung_cancer\\\\input\\\\2d_images\\\\ID_0041_Z_0336.tif',\n",
       " 'D:\\\\yonsei_tutoring\\\\segmentation\\\\lung_cancer\\\\input\\\\2d_images\\\\ID_0042_Z_0366.tif',\n",
       " 'D:\\\\yonsei_tutoring\\\\segmentation\\\\lung_cancer\\\\input\\\\2d_images\\\\ID_0043_Z_0097.tif',\n",
       " 'D:\\\\yonsei_tutoring\\\\segmentation\\\\lung_cancer\\\\input\\\\2d_images\\\\ID_0044_Z_0116.tif',\n",
       " 'D:\\\\yonsei_tutoring\\\\segmentation\\\\lung_cancer\\\\input\\\\2d_images\\\\ID_0045_Z_0131.tif',\n",
       " 'D:\\\\yonsei_tutoring\\\\segmentation\\\\lung_cancer\\\\input\\\\2d_images\\\\ID_0046_Z_0110.tif',\n",
       " 'D:\\\\yonsei_tutoring\\\\segmentation\\\\lung_cancer\\\\input\\\\2d_images\\\\ID_0047_Z_0272.tif',\n",
       " 'D:\\\\yonsei_tutoring\\\\segmentation\\\\lung_cancer\\\\input\\\\2d_images\\\\ID_0048_Z_0294.tif',\n",
       " 'D:\\\\yonsei_tutoring\\\\segmentation\\\\lung_cancer\\\\input\\\\2d_images\\\\ID_0049_Z_0105.tif',\n",
       " 'D:\\\\yonsei_tutoring\\\\segmentation\\\\lung_cancer\\\\input\\\\2d_images\\\\ID_0050_Z_0085.tif',\n",
       " 'D:\\\\yonsei_tutoring\\\\segmentation\\\\lung_cancer\\\\input\\\\2d_images\\\\ID_0051_Z_0130.tif',\n",
       " 'D:\\\\yonsei_tutoring\\\\segmentation\\\\lung_cancer\\\\input\\\\2d_images\\\\ID_0052_Z_0108.tif',\n",
       " 'D:\\\\yonsei_tutoring\\\\segmentation\\\\lung_cancer\\\\input\\\\2d_images\\\\ID_0053_Z_0127.tif',\n",
       " 'D:\\\\yonsei_tutoring\\\\segmentation\\\\lung_cancer\\\\input\\\\2d_images\\\\ID_0054_Z_0135.tif',\n",
       " 'D:\\\\yonsei_tutoring\\\\segmentation\\\\lung_cancer\\\\input\\\\2d_images\\\\ID_0055_Z_0122.tif',\n",
       " 'D:\\\\yonsei_tutoring\\\\segmentation\\\\lung_cancer\\\\input\\\\2d_images\\\\ID_0056_Z_0163.tif',\n",
       " 'D:\\\\yonsei_tutoring\\\\segmentation\\\\lung_cancer\\\\input\\\\2d_images\\\\ID_0057_Z_0070.tif',\n",
       " 'D:\\\\yonsei_tutoring\\\\segmentation\\\\lung_cancer\\\\input\\\\2d_images\\\\ID_0058_Z_0150.tif',\n",
       " 'D:\\\\yonsei_tutoring\\\\segmentation\\\\lung_cancer\\\\input\\\\2d_images\\\\ID_0059_Z_0150.tif',\n",
       " 'D:\\\\yonsei_tutoring\\\\segmentation\\\\lung_cancer\\\\input\\\\2d_images\\\\ID_0060_Z_0147.tif',\n",
       " 'D:\\\\yonsei_tutoring\\\\segmentation\\\\lung_cancer\\\\input\\\\2d_images\\\\ID_0061_Z_0064.tif',\n",
       " 'D:\\\\yonsei_tutoring\\\\segmentation\\\\lung_cancer\\\\input\\\\2d_images\\\\ID_0062_Z_0125.tif',\n",
       " 'D:\\\\yonsei_tutoring\\\\segmentation\\\\lung_cancer\\\\input\\\\2d_images\\\\ID_0063_Z_0067.tif',\n",
       " 'D:\\\\yonsei_tutoring\\\\segmentation\\\\lung_cancer\\\\input\\\\2d_images\\\\ID_0064_Z_0069.tif',\n",
       " 'D:\\\\yonsei_tutoring\\\\segmentation\\\\lung_cancer\\\\input\\\\2d_images\\\\ID_0065_Z_0126.tif',\n",
       " 'D:\\\\yonsei_tutoring\\\\segmentation\\\\lung_cancer\\\\input\\\\2d_images\\\\ID_0066_Z_0141.tif',\n",
       " 'D:\\\\yonsei_tutoring\\\\segmentation\\\\lung_cancer\\\\input\\\\2d_images\\\\ID_0067_Z_0238.tif',\n",
       " 'D:\\\\yonsei_tutoring\\\\segmentation\\\\lung_cancer\\\\input\\\\2d_images\\\\ID_0068_Z_0055.tif',\n",
       " 'D:\\\\yonsei_tutoring\\\\segmentation\\\\lung_cancer\\\\input\\\\2d_images\\\\ID_0069_Z_0054.tif',\n",
       " 'D:\\\\yonsei_tutoring\\\\segmentation\\\\lung_cancer\\\\input\\\\2d_images\\\\ID_0070_Z_0120.tif',\n",
       " 'D:\\\\yonsei_tutoring\\\\segmentation\\\\lung_cancer\\\\input\\\\2d_images\\\\ID_0071_Z_0072.tif',\n",
       " 'D:\\\\yonsei_tutoring\\\\segmentation\\\\lung_cancer\\\\input\\\\2d_images\\\\ID_0072_Z_0119.tif',\n",
       " 'D:\\\\yonsei_tutoring\\\\segmentation\\\\lung_cancer\\\\input\\\\2d_images\\\\ID_0073_Z_0076.tif',\n",
       " 'D:\\\\yonsei_tutoring\\\\segmentation\\\\lung_cancer\\\\input\\\\2d_images\\\\ID_0074_Z_0066.tif',\n",
       " 'D:\\\\yonsei_tutoring\\\\segmentation\\\\lung_cancer\\\\input\\\\2d_images\\\\ID_0075_Z_0061.tif',\n",
       " 'D:\\\\yonsei_tutoring\\\\segmentation\\\\lung_cancer\\\\input\\\\2d_images\\\\ID_0076_Z_0230.tif',\n",
       " 'D:\\\\yonsei_tutoring\\\\segmentation\\\\lung_cancer\\\\input\\\\2d_images\\\\ID_0077_Z_0173.tif',\n",
       " 'D:\\\\yonsei_tutoring\\\\segmentation\\\\lung_cancer\\\\input\\\\2d_images\\\\ID_0078_Z_0058.tif',\n",
       " 'D:\\\\yonsei_tutoring\\\\segmentation\\\\lung_cancer\\\\input\\\\2d_images\\\\ID_0079_Z_0072.tif',\n",
       " 'D:\\\\yonsei_tutoring\\\\segmentation\\\\lung_cancer\\\\input\\\\2d_images\\\\ID_0080_Z_0213.tif',\n",
       " 'D:\\\\yonsei_tutoring\\\\segmentation\\\\lung_cancer\\\\input\\\\2d_images\\\\ID_0081_Z_0066.tif',\n",
       " 'D:\\\\yonsei_tutoring\\\\segmentation\\\\lung_cancer\\\\input\\\\2d_images\\\\ID_0082_Z_0278.tif',\n",
       " 'D:\\\\yonsei_tutoring\\\\segmentation\\\\lung_cancer\\\\input\\\\2d_images\\\\ID_0083_Z_0256.tif',\n",
       " 'D:\\\\yonsei_tutoring\\\\segmentation\\\\lung_cancer\\\\input\\\\2d_images\\\\ID_0084_Z_0218.tif',\n",
       " 'D:\\\\yonsei_tutoring\\\\segmentation\\\\lung_cancer\\\\input\\\\2d_images\\\\ID_0085_Z_0237.tif',\n",
       " 'D:\\\\yonsei_tutoring\\\\segmentation\\\\lung_cancer\\\\input\\\\2d_images\\\\ID_0086_Z_0253.tif',\n",
       " 'D:\\\\yonsei_tutoring\\\\segmentation\\\\lung_cancer\\\\input\\\\2d_images\\\\ID_0087_Z_0237.tif',\n",
       " 'D:\\\\yonsei_tutoring\\\\segmentation\\\\lung_cancer\\\\input\\\\2d_images\\\\ID_0088_Z_0100.tif',\n",
       " 'D:\\\\yonsei_tutoring\\\\segmentation\\\\lung_cancer\\\\input\\\\2d_images\\\\ID_0089_Z_0341.tif',\n",
       " 'D:\\\\yonsei_tutoring\\\\segmentation\\\\lung_cancer\\\\input\\\\2d_images\\\\ID_0090_Z_0119.tif',\n",
       " 'D:\\\\yonsei_tutoring\\\\segmentation\\\\lung_cancer\\\\input\\\\2d_images\\\\ID_0091_Z_0063.tif',\n",
       " 'D:\\\\yonsei_tutoring\\\\segmentation\\\\lung_cancer\\\\input\\\\2d_images\\\\ID_0092_Z_0258.tif',\n",
       " 'D:\\\\yonsei_tutoring\\\\segmentation\\\\lung_cancer\\\\input\\\\2d_images\\\\ID_0093_Z_0123.tif',\n",
       " 'D:\\\\yonsei_tutoring\\\\segmentation\\\\lung_cancer\\\\input\\\\2d_images\\\\ID_0094_Z_0214.tif',\n",
       " 'D:\\\\yonsei_tutoring\\\\segmentation\\\\lung_cancer\\\\input\\\\2d_images\\\\ID_0095_Z_0097.tif',\n",
       " 'D:\\\\yonsei_tutoring\\\\segmentation\\\\lung_cancer\\\\input\\\\2d_images\\\\ID_0096_Z_0216.tif',\n",
       " 'D:\\\\yonsei_tutoring\\\\segmentation\\\\lung_cancer\\\\input\\\\2d_images\\\\ID_0097_Z_0098.tif',\n",
       " 'D:\\\\yonsei_tutoring\\\\segmentation\\\\lung_cancer\\\\input\\\\2d_images\\\\ID_0098_Z_0068.tif',\n",
       " 'D:\\\\yonsei_tutoring\\\\segmentation\\\\lung_cancer\\\\input\\\\2d_images\\\\ID_0099_Z_0069.tif',\n",
       " 'D:\\\\yonsei_tutoring\\\\segmentation\\\\lung_cancer\\\\input\\\\2d_images\\\\ID_0100_Z_0062.tif',\n",
       " 'D:\\\\yonsei_tutoring\\\\segmentation\\\\lung_cancer\\\\input\\\\2d_images\\\\ID_0101_Z_0196.tif',\n",
       " 'D:\\\\yonsei_tutoring\\\\segmentation\\\\lung_cancer\\\\input\\\\2d_images\\\\ID_0102_Z_0238.tif',\n",
       " 'D:\\\\yonsei_tutoring\\\\segmentation\\\\lung_cancer\\\\input\\\\2d_images\\\\ID_0103_Z_0069.tif',\n",
       " 'D:\\\\yonsei_tutoring\\\\segmentation\\\\lung_cancer\\\\input\\\\2d_images\\\\ID_0104_Z_0101.tif',\n",
       " 'D:\\\\yonsei_tutoring\\\\segmentation\\\\lung_cancer\\\\input\\\\2d_images\\\\ID_0105_Z_0240.tif',\n",
       " 'D:\\\\yonsei_tutoring\\\\segmentation\\\\lung_cancer\\\\input\\\\2d_images\\\\ID_0106_Z_0130.tif',\n",
       " 'D:\\\\yonsei_tutoring\\\\segmentation\\\\lung_cancer\\\\input\\\\2d_images\\\\ID_0107_Z_0062.tif',\n",
       " 'D:\\\\yonsei_tutoring\\\\segmentation\\\\lung_cancer\\\\input\\\\2d_images\\\\ID_0108_Z_0259.tif',\n",
       " 'D:\\\\yonsei_tutoring\\\\segmentation\\\\lung_cancer\\\\input\\\\2d_images\\\\ID_0109_Z_0134.tif',\n",
       " 'D:\\\\yonsei_tutoring\\\\segmentation\\\\lung_cancer\\\\input\\\\2d_images\\\\ID_0110_Z_0066.tif',\n",
       " 'D:\\\\yonsei_tutoring\\\\segmentation\\\\lung_cancer\\\\input\\\\2d_images\\\\ID_0111_Z_0078.tif',\n",
       " 'D:\\\\yonsei_tutoring\\\\segmentation\\\\lung_cancer\\\\input\\\\2d_images\\\\ID_0112_Z_0085.tif',\n",
       " 'D:\\\\yonsei_tutoring\\\\segmentation\\\\lung_cancer\\\\input\\\\2d_images\\\\ID_0113_Z_0090.tif',\n",
       " 'D:\\\\yonsei_tutoring\\\\segmentation\\\\lung_cancer\\\\input\\\\2d_images\\\\ID_0114_Z_0078.tif',\n",
       " 'D:\\\\yonsei_tutoring\\\\segmentation\\\\lung_cancer\\\\input\\\\2d_images\\\\ID_0115_Z_0060.tif',\n",
       " 'D:\\\\yonsei_tutoring\\\\segmentation\\\\lung_cancer\\\\input\\\\2d_images\\\\ID_0116_Z_0116.tif',\n",
       " 'D:\\\\yonsei_tutoring\\\\segmentation\\\\lung_cancer\\\\input\\\\2d_images\\\\ID_0117_Z_0235.tif',\n",
       " 'D:\\\\yonsei_tutoring\\\\segmentation\\\\lung_cancer\\\\input\\\\2d_images\\\\ID_0118_Z_0206.tif',\n",
       " 'D:\\\\yonsei_tutoring\\\\segmentation\\\\lung_cancer\\\\input\\\\2d_images\\\\ID_0119_Z_0063.tif',\n",
       " 'D:\\\\yonsei_tutoring\\\\segmentation\\\\lung_cancer\\\\input\\\\2d_images\\\\ID_0120_Z_0123.tif',\n",
       " 'D:\\\\yonsei_tutoring\\\\segmentation\\\\lung_cancer\\\\input\\\\2d_images\\\\ID_0121_Z_0245.tif',\n",
       " 'D:\\\\yonsei_tutoring\\\\segmentation\\\\lung_cancer\\\\input\\\\2d_images\\\\ID_0122_Z_0066.tif',\n",
       " 'D:\\\\yonsei_tutoring\\\\segmentation\\\\lung_cancer\\\\input\\\\2d_images\\\\ID_0123_Z_0073.tif',\n",
       " 'D:\\\\yonsei_tutoring\\\\segmentation\\\\lung_cancer\\\\input\\\\2d_images\\\\ID_0124_Z_0066.tif',\n",
       " 'D:\\\\yonsei_tutoring\\\\segmentation\\\\lung_cancer\\\\input\\\\2d_images\\\\ID_0125_Z_0119.tif',\n",
       " 'D:\\\\yonsei_tutoring\\\\segmentation\\\\lung_cancer\\\\input\\\\2d_images\\\\ID_0126_Z_0139.tif',\n",
       " 'D:\\\\yonsei_tutoring\\\\segmentation\\\\lung_cancer\\\\input\\\\2d_images\\\\ID_0127_Z_0064.tif',\n",
       " 'D:\\\\yonsei_tutoring\\\\segmentation\\\\lung_cancer\\\\input\\\\2d_images\\\\ID_0128_Z_0130.tif',\n",
       " 'D:\\\\yonsei_tutoring\\\\segmentation\\\\lung_cancer\\\\input\\\\2d_images\\\\ID_0129_Z_0104.tif',\n",
       " 'D:\\\\yonsei_tutoring\\\\segmentation\\\\lung_cancer\\\\input\\\\2d_images\\\\ID_0130_Z_0140.tif',\n",
       " 'D:\\\\yonsei_tutoring\\\\segmentation\\\\lung_cancer\\\\input\\\\2d_images\\\\ID_0131_Z_0097.tif',\n",
       " 'D:\\\\yonsei_tutoring\\\\segmentation\\\\lung_cancer\\\\input\\\\2d_images\\\\ID_0132_Z_0069.tif',\n",
       " 'D:\\\\yonsei_tutoring\\\\segmentation\\\\lung_cancer\\\\input\\\\2d_images\\\\ID_0133_Z_0070.tif',\n",
       " 'D:\\\\yonsei_tutoring\\\\segmentation\\\\lung_cancer\\\\input\\\\2d_images\\\\ID_0134_Z_0137.tif',\n",
       " 'D:\\\\yonsei_tutoring\\\\segmentation\\\\lung_cancer\\\\input\\\\2d_images\\\\ID_0135_Z_0066.tif',\n",
       " 'D:\\\\yonsei_tutoring\\\\segmentation\\\\lung_cancer\\\\input\\\\2d_images\\\\ID_0136_Z_0122.tif',\n",
       " 'D:\\\\yonsei_tutoring\\\\segmentation\\\\lung_cancer\\\\input\\\\2d_images\\\\ID_0137_Z_0155.tif',\n",
       " 'D:\\\\yonsei_tutoring\\\\segmentation\\\\lung_cancer\\\\input\\\\2d_images\\\\ID_0138_Z_0063.tif',\n",
       " 'D:\\\\yonsei_tutoring\\\\segmentation\\\\lung_cancer\\\\input\\\\2d_images\\\\ID_0139_Z_0056.tif',\n",
       " 'D:\\\\yonsei_tutoring\\\\segmentation\\\\lung_cancer\\\\input\\\\2d_images\\\\ID_0140_Z_0230.tif',\n",
       " 'D:\\\\yonsei_tutoring\\\\segmentation\\\\lung_cancer\\\\input\\\\2d_images\\\\ID_0141_Z_0128.tif',\n",
       " 'D:\\\\yonsei_tutoring\\\\segmentation\\\\lung_cancer\\\\input\\\\2d_images\\\\ID_0142_Z_0145.tif',\n",
       " 'D:\\\\yonsei_tutoring\\\\segmentation\\\\lung_cancer\\\\input\\\\2d_images\\\\ID_0143_Z_0124.tif',\n",
       " 'D:\\\\yonsei_tutoring\\\\segmentation\\\\lung_cancer\\\\input\\\\2d_images\\\\ID_0144_Z_0224.tif',\n",
       " 'D:\\\\yonsei_tutoring\\\\segmentation\\\\lung_cancer\\\\input\\\\2d_images\\\\ID_0145_Z_0059.tif',\n",
       " 'D:\\\\yonsei_tutoring\\\\segmentation\\\\lung_cancer\\\\input\\\\2d_images\\\\ID_0146_Z_0122.tif',\n",
       " 'D:\\\\yonsei_tutoring\\\\segmentation\\\\lung_cancer\\\\input\\\\2d_images\\\\ID_0147_Z_0051.tif',\n",
       " 'D:\\\\yonsei_tutoring\\\\segmentation\\\\lung_cancer\\\\input\\\\2d_images\\\\ID_0148_Z_0254.tif',\n",
       " 'D:\\\\yonsei_tutoring\\\\segmentation\\\\lung_cancer\\\\input\\\\2d_images\\\\ID_0149_Z_0269.tif',\n",
       " 'D:\\\\yonsei_tutoring\\\\segmentation\\\\lung_cancer\\\\input\\\\2d_images\\\\ID_0150_Z_0090.tif',\n",
       " 'D:\\\\yonsei_tutoring\\\\segmentation\\\\lung_cancer\\\\input\\\\2d_images\\\\ID_0151_Z_0140.tif',\n",
       " 'D:\\\\yonsei_tutoring\\\\segmentation\\\\lung_cancer\\\\input\\\\2d_images\\\\ID_0152_Z_0133.tif',\n",
       " 'D:\\\\yonsei_tutoring\\\\segmentation\\\\lung_cancer\\\\input\\\\2d_images\\\\ID_0153_Z_0065.tif',\n",
       " 'D:\\\\yonsei_tutoring\\\\segmentation\\\\lung_cancer\\\\input\\\\2d_images\\\\ID_0154_Z_0070.tif',\n",
       " 'D:\\\\yonsei_tutoring\\\\segmentation\\\\lung_cancer\\\\input\\\\2d_images\\\\ID_0155_Z_0130.tif',\n",
       " 'D:\\\\yonsei_tutoring\\\\segmentation\\\\lung_cancer\\\\input\\\\2d_images\\\\ID_0156_Z_0099.tif',\n",
       " 'D:\\\\yonsei_tutoring\\\\segmentation\\\\lung_cancer\\\\input\\\\2d_images\\\\ID_0157_Z_0070.tif',\n",
       " 'D:\\\\yonsei_tutoring\\\\segmentation\\\\lung_cancer\\\\input\\\\2d_images\\\\ID_0158_Z_0164.tif',\n",
       " 'D:\\\\yonsei_tutoring\\\\segmentation\\\\lung_cancer\\\\input\\\\2d_images\\\\ID_0159_Z_0104.tif',\n",
       " 'D:\\\\yonsei_tutoring\\\\segmentation\\\\lung_cancer\\\\input\\\\2d_images\\\\ID_0160_Z_0140.tif',\n",
       " 'D:\\\\yonsei_tutoring\\\\segmentation\\\\lung_cancer\\\\input\\\\2d_images\\\\ID_0161_Z_0075.tif',\n",
       " 'D:\\\\yonsei_tutoring\\\\segmentation\\\\lung_cancer\\\\input\\\\2d_images\\\\ID_0162_Z_0091.tif',\n",
       " 'D:\\\\yonsei_tutoring\\\\segmentation\\\\lung_cancer\\\\input\\\\2d_images\\\\ID_0163_Z_0138.tif',\n",
       " 'D:\\\\yonsei_tutoring\\\\segmentation\\\\lung_cancer\\\\input\\\\2d_images\\\\ID_0164_Z_0066.tif',\n",
       " 'D:\\\\yonsei_tutoring\\\\segmentation\\\\lung_cancer\\\\input\\\\2d_images\\\\ID_0165_Z_0145.tif',\n",
       " 'D:\\\\yonsei_tutoring\\\\segmentation\\\\lung_cancer\\\\input\\\\2d_images\\\\ID_0166_Z_0072.tif',\n",
       " 'D:\\\\yonsei_tutoring\\\\segmentation\\\\lung_cancer\\\\input\\\\2d_images\\\\ID_0167_Z_0128.tif',\n",
       " 'D:\\\\yonsei_tutoring\\\\segmentation\\\\lung_cancer\\\\input\\\\2d_images\\\\ID_0168_Z_0130.tif',\n",
       " 'D:\\\\yonsei_tutoring\\\\segmentation\\\\lung_cancer\\\\input\\\\2d_images\\\\ID_0169_Z_0066.tif',\n",
       " 'D:\\\\yonsei_tutoring\\\\segmentation\\\\lung_cancer\\\\input\\\\2d_images\\\\ID_0170_Z_0066.tif',\n",
       " 'D:\\\\yonsei_tutoring\\\\segmentation\\\\lung_cancer\\\\input\\\\2d_images\\\\ID_0171_Z_0184.tif',\n",
       " 'D:\\\\yonsei_tutoring\\\\segmentation\\\\lung_cancer\\\\input\\\\2d_images\\\\ID_0172_Z_0098.tif',\n",
       " 'D:\\\\yonsei_tutoring\\\\segmentation\\\\lung_cancer\\\\input\\\\2d_images\\\\ID_0173_Z_0110.tif',\n",
       " 'D:\\\\yonsei_tutoring\\\\segmentation\\\\lung_cancer\\\\input\\\\2d_images\\\\ID_0174_Z_0054.tif',\n",
       " 'D:\\\\yonsei_tutoring\\\\segmentation\\\\lung_cancer\\\\input\\\\2d_images\\\\ID_0175_Z_0165.tif',\n",
       " 'D:\\\\yonsei_tutoring\\\\segmentation\\\\lung_cancer\\\\input\\\\2d_images\\\\ID_0176_Z_0162.tif',\n",
       " 'D:\\\\yonsei_tutoring\\\\segmentation\\\\lung_cancer\\\\input\\\\2d_images\\\\ID_0177_Z_0163.tif',\n",
       " 'D:\\\\yonsei_tutoring\\\\segmentation\\\\lung_cancer\\\\input\\\\2d_images\\\\ID_0178_Z_0127.tif',\n",
       " 'D:\\\\yonsei_tutoring\\\\segmentation\\\\lung_cancer\\\\input\\\\2d_images\\\\ID_0179_Z_0130.tif',\n",
       " 'D:\\\\yonsei_tutoring\\\\segmentation\\\\lung_cancer\\\\input\\\\2d_images\\\\ID_0180_Z_0086.tif',\n",
       " 'D:\\\\yonsei_tutoring\\\\segmentation\\\\lung_cancer\\\\input\\\\2d_images\\\\ID_0181_Z_0122.tif',\n",
       " 'D:\\\\yonsei_tutoring\\\\segmentation\\\\lung_cancer\\\\input\\\\2d_images\\\\ID_0182_Z_0060.tif',\n",
       " 'D:\\\\yonsei_tutoring\\\\segmentation\\\\lung_cancer\\\\input\\\\2d_images\\\\ID_0183_Z_0242.tif',\n",
       " 'D:\\\\yonsei_tutoring\\\\segmentation\\\\lung_cancer\\\\input\\\\2d_images\\\\ID_0184_Z_0089.tif',\n",
       " 'D:\\\\yonsei_tutoring\\\\segmentation\\\\lung_cancer\\\\input\\\\2d_images\\\\ID_0185_Z_0131.tif',\n",
       " 'D:\\\\yonsei_tutoring\\\\segmentation\\\\lung_cancer\\\\input\\\\2d_images\\\\ID_0186_Z_0102.tif',\n",
       " 'D:\\\\yonsei_tutoring\\\\segmentation\\\\lung_cancer\\\\input\\\\2d_images\\\\ID_0187_Z_0145.tif',\n",
       " 'D:\\\\yonsei_tutoring\\\\segmentation\\\\lung_cancer\\\\input\\\\2d_images\\\\ID_0188_Z_0137.tif',\n",
       " 'D:\\\\yonsei_tutoring\\\\segmentation\\\\lung_cancer\\\\input\\\\2d_images\\\\ID_0189_Z_0132.tif',\n",
       " 'D:\\\\yonsei_tutoring\\\\segmentation\\\\lung_cancer\\\\input\\\\2d_images\\\\ID_0190_Z_0070.tif',\n",
       " 'D:\\\\yonsei_tutoring\\\\segmentation\\\\lung_cancer\\\\input\\\\2d_images\\\\ID_0191_Z_0140.tif',\n",
       " 'D:\\\\yonsei_tutoring\\\\segmentation\\\\lung_cancer\\\\input\\\\2d_images\\\\ID_0192_Z_0064.tif',\n",
       " 'D:\\\\yonsei_tutoring\\\\segmentation\\\\lung_cancer\\\\input\\\\2d_images\\\\ID_0193_Z_0060.tif',\n",
       " 'D:\\\\yonsei_tutoring\\\\segmentation\\\\lung_cancer\\\\input\\\\2d_images\\\\ID_0194_Z_0120.tif',\n",
       " 'D:\\\\yonsei_tutoring\\\\segmentation\\\\lung_cancer\\\\input\\\\2d_images\\\\ID_0195_Z_0062.tif',\n",
       " 'D:\\\\yonsei_tutoring\\\\segmentation\\\\lung_cancer\\\\input\\\\2d_images\\\\ID_0196_Z_0259.tif',\n",
       " 'D:\\\\yonsei_tutoring\\\\segmentation\\\\lung_cancer\\\\input\\\\2d_images\\\\ID_0197_Z_0123.tif',\n",
       " 'D:\\\\yonsei_tutoring\\\\segmentation\\\\lung_cancer\\\\input\\\\2d_images\\\\ID_0198_Z_0120.tif',\n",
       " 'D:\\\\yonsei_tutoring\\\\segmentation\\\\lung_cancer\\\\input\\\\2d_images\\\\ID_0199_Z_0119.tif',\n",
       " 'D:\\\\yonsei_tutoring\\\\segmentation\\\\lung_cancer\\\\input\\\\2d_images\\\\ID_0200_Z_0125.tif',\n",
       " 'D:\\\\yonsei_tutoring\\\\segmentation\\\\lung_cancer\\\\input\\\\2d_images\\\\ID_0201_Z_0241.tif',\n",
       " 'D:\\\\yonsei_tutoring\\\\segmentation\\\\lung_cancer\\\\input\\\\2d_images\\\\ID_0202_Z_0098.tif',\n",
       " 'D:\\\\yonsei_tutoring\\\\segmentation\\\\lung_cancer\\\\input\\\\2d_images\\\\ID_0203_Z_0079.tif',\n",
       " 'D:\\\\yonsei_tutoring\\\\segmentation\\\\lung_cancer\\\\input\\\\2d_images\\\\ID_0204_Z_0066.tif',\n",
       " 'D:\\\\yonsei_tutoring\\\\segmentation\\\\lung_cancer\\\\input\\\\2d_images\\\\ID_0205_Z_0066.tif',\n",
       " 'D:\\\\yonsei_tutoring\\\\segmentation\\\\lung_cancer\\\\input\\\\2d_images\\\\ID_0206_Z_0062.tif',\n",
       " 'D:\\\\yonsei_tutoring\\\\segmentation\\\\lung_cancer\\\\input\\\\2d_images\\\\ID_0207_Z_0160.tif',\n",
       " 'D:\\\\yonsei_tutoring\\\\segmentation\\\\lung_cancer\\\\input\\\\2d_images\\\\ID_0208_Z_0063.tif',\n",
       " 'D:\\\\yonsei_tutoring\\\\segmentation\\\\lung_cancer\\\\input\\\\2d_images\\\\ID_0209_Z_0267.tif',\n",
       " 'D:\\\\yonsei_tutoring\\\\segmentation\\\\lung_cancer\\\\input\\\\2d_images\\\\ID_0210_Z_0140.tif',\n",
       " 'D:\\\\yonsei_tutoring\\\\segmentation\\\\lung_cancer\\\\input\\\\2d_images\\\\ID_0211_Z_0140.tif',\n",
       " 'D:\\\\yonsei_tutoring\\\\segmentation\\\\lung_cancer\\\\input\\\\2d_images\\\\ID_0212_Z_0064.tif',\n",
       " 'D:\\\\yonsei_tutoring\\\\segmentation\\\\lung_cancer\\\\input\\\\2d_images\\\\ID_0213_Z_0088.tif',\n",
       " 'D:\\\\yonsei_tutoring\\\\segmentation\\\\lung_cancer\\\\input\\\\2d_images\\\\ID_0214_Z_0120.tif',\n",
       " 'D:\\\\yonsei_tutoring\\\\segmentation\\\\lung_cancer\\\\input\\\\2d_images\\\\ID_0215_Z_0238.tif',\n",
       " 'D:\\\\yonsei_tutoring\\\\segmentation\\\\lung_cancer\\\\input\\\\2d_images\\\\ID_0216_Z_0057.tif',\n",
       " 'D:\\\\yonsei_tutoring\\\\segmentation\\\\lung_cancer\\\\input\\\\2d_images\\\\ID_0217_Z_0078.tif',\n",
       " 'D:\\\\yonsei_tutoring\\\\segmentation\\\\lung_cancer\\\\input\\\\2d_images\\\\ID_0218_Z_0231.tif',\n",
       " 'D:\\\\yonsei_tutoring\\\\segmentation\\\\lung_cancer\\\\input\\\\2d_images\\\\ID_0219_Z_0222.tif',\n",
       " 'D:\\\\yonsei_tutoring\\\\segmentation\\\\lung_cancer\\\\input\\\\2d_images\\\\ID_0220_Z_0066.tif',\n",
       " 'D:\\\\yonsei_tutoring\\\\segmentation\\\\lung_cancer\\\\input\\\\2d_images\\\\ID_0221_Z_0081.tif',\n",
       " 'D:\\\\yonsei_tutoring\\\\segmentation\\\\lung_cancer\\\\input\\\\2d_images\\\\ID_0222_Z_0122.tif',\n",
       " 'D:\\\\yonsei_tutoring\\\\segmentation\\\\lung_cancer\\\\input\\\\2d_images\\\\ID_0223_Z_0214.tif',\n",
       " 'D:\\\\yonsei_tutoring\\\\segmentation\\\\lung_cancer\\\\input\\\\2d_images\\\\ID_0224_Z_0210.tif',\n",
       " 'D:\\\\yonsei_tutoring\\\\segmentation\\\\lung_cancer\\\\input\\\\2d_images\\\\ID_0225_Z_0069.tif',\n",
       " 'D:\\\\yonsei_tutoring\\\\segmentation\\\\lung_cancer\\\\input\\\\2d_images\\\\ID_0226_Z_0066.tif',\n",
       " 'D:\\\\yonsei_tutoring\\\\segmentation\\\\lung_cancer\\\\input\\\\2d_images\\\\ID_0227_Z_0181.tif',\n",
       " 'D:\\\\yonsei_tutoring\\\\segmentation\\\\lung_cancer\\\\input\\\\2d_images\\\\ID_0228_Z_0097.tif',\n",
       " 'D:\\\\yonsei_tutoring\\\\segmentation\\\\lung_cancer\\\\input\\\\2d_images\\\\ID_0229_Z_0060.tif',\n",
       " 'D:\\\\yonsei_tutoring\\\\segmentation\\\\lung_cancer\\\\input\\\\2d_images\\\\ID_0230_Z_0242.tif',\n",
       " 'D:\\\\yonsei_tutoring\\\\segmentation\\\\lung_cancer\\\\input\\\\2d_images\\\\ID_0231_Z_0140.tif',\n",
       " 'D:\\\\yonsei_tutoring\\\\segmentation\\\\lung_cancer\\\\input\\\\2d_images\\\\ID_0232_Z_0063.tif',\n",
       " 'D:\\\\yonsei_tutoring\\\\segmentation\\\\lung_cancer\\\\input\\\\2d_images\\\\ID_0233_Z_0064.tif',\n",
       " 'D:\\\\yonsei_tutoring\\\\segmentation\\\\lung_cancer\\\\input\\\\2d_images\\\\ID_0234_Z_0096.tif',\n",
       " 'D:\\\\yonsei_tutoring\\\\segmentation\\\\lung_cancer\\\\input\\\\2d_images\\\\ID_0235_Z_0058.tif',\n",
       " 'D:\\\\yonsei_tutoring\\\\segmentation\\\\lung_cancer\\\\input\\\\2d_images\\\\ID_0236_Z_0122.tif',\n",
       " 'D:\\\\yonsei_tutoring\\\\segmentation\\\\lung_cancer\\\\input\\\\2d_images\\\\ID_0237_Z_0061.tif',\n",
       " 'D:\\\\yonsei_tutoring\\\\segmentation\\\\lung_cancer\\\\input\\\\2d_images\\\\ID_0238_Z_0253.tif',\n",
       " 'D:\\\\yonsei_tutoring\\\\segmentation\\\\lung_cancer\\\\input\\\\2d_images\\\\ID_0239_Z_0365.tif',\n",
       " 'D:\\\\yonsei_tutoring\\\\segmentation\\\\lung_cancer\\\\input\\\\2d_images\\\\ID_0240_Z_0066.tif',\n",
       " 'D:\\\\yonsei_tutoring\\\\segmentation\\\\lung_cancer\\\\input\\\\2d_images\\\\ID_0241_Z_0124.tif',\n",
       " 'D:\\\\yonsei_tutoring\\\\segmentation\\\\lung_cancer\\\\input\\\\2d_images\\\\ID_0242_Z_0123.tif',\n",
       " 'D:\\\\yonsei_tutoring\\\\segmentation\\\\lung_cancer\\\\input\\\\2d_images\\\\ID_0243_Z_0056.tif',\n",
       " 'D:\\\\yonsei_tutoring\\\\segmentation\\\\lung_cancer\\\\input\\\\2d_images\\\\ID_0244_Z_0184.tif',\n",
       " 'D:\\\\yonsei_tutoring\\\\segmentation\\\\lung_cancer\\\\input\\\\2d_images\\\\ID_0245_Z_0318.tif',\n",
       " 'D:\\\\yonsei_tutoring\\\\segmentation\\\\lung_cancer\\\\input\\\\2d_images\\\\ID_0246_Z_0228.tif',\n",
       " 'D:\\\\yonsei_tutoring\\\\segmentation\\\\lung_cancer\\\\input\\\\2d_images\\\\ID_0247_Z_0070.tif',\n",
       " 'D:\\\\yonsei_tutoring\\\\segmentation\\\\lung_cancer\\\\input\\\\2d_images\\\\ID_0248_Z_0062.tif',\n",
       " 'D:\\\\yonsei_tutoring\\\\segmentation\\\\lung_cancer\\\\input\\\\2d_images\\\\ID_0249_Z_0070.tif',\n",
       " 'D:\\\\yonsei_tutoring\\\\segmentation\\\\lung_cancer\\\\input\\\\2d_images\\\\ID_0250_Z_0070.tif',\n",
       " 'D:\\\\yonsei_tutoring\\\\segmentation\\\\lung_cancer\\\\input\\\\2d_images\\\\ID_0251_Z_0125.tif',\n",
       " 'D:\\\\yonsei_tutoring\\\\segmentation\\\\lung_cancer\\\\input\\\\2d_images\\\\ID_0252_Z_0064.tif',\n",
       " 'D:\\\\yonsei_tutoring\\\\segmentation\\\\lung_cancer\\\\input\\\\2d_images\\\\ID_0253_Z_0238.tif',\n",
       " 'D:\\\\yonsei_tutoring\\\\segmentation\\\\lung_cancer\\\\input\\\\2d_images\\\\ID_0254_Z_0075.tif',\n",
       " 'D:\\\\yonsei_tutoring\\\\segmentation\\\\lung_cancer\\\\input\\\\2d_images\\\\ID_0255_Z_0061.tif',\n",
       " 'D:\\\\yonsei_tutoring\\\\segmentation\\\\lung_cancer\\\\input\\\\2d_images\\\\ID_0256_Z_0062.tif',\n",
       " 'D:\\\\yonsei_tutoring\\\\segmentation\\\\lung_cancer\\\\input\\\\2d_images\\\\ID_0257_Z_0071.tif',\n",
       " 'D:\\\\yonsei_tutoring\\\\segmentation\\\\lung_cancer\\\\input\\\\2d_images\\\\ID_0258_Z_0072.tif',\n",
       " 'D:\\\\yonsei_tutoring\\\\segmentation\\\\lung_cancer\\\\input\\\\2d_images\\\\ID_0259_Z_0073.tif',\n",
       " 'D:\\\\yonsei_tutoring\\\\segmentation\\\\lung_cancer\\\\input\\\\2d_images\\\\ID_0260_Z_0148.tif',\n",
       " 'D:\\\\yonsei_tutoring\\\\segmentation\\\\lung_cancer\\\\input\\\\2d_images\\\\ID_0261_Z_0238.tif',\n",
       " 'D:\\\\yonsei_tutoring\\\\segmentation\\\\lung_cancer\\\\input\\\\2d_images\\\\ID_0262_Z_0064.tif',\n",
       " 'D:\\\\yonsei_tutoring\\\\segmentation\\\\lung_cancer\\\\input\\\\2d_images\\\\ID_0263_Z_0093.tif',\n",
       " 'D:\\\\yonsei_tutoring\\\\segmentation\\\\lung_cancer\\\\input\\\\2d_images\\\\ID_0264_Z_0080.tif',\n",
       " 'D:\\\\yonsei_tutoring\\\\segmentation\\\\lung_cancer\\\\input\\\\2d_images\\\\ID_0265_Z_0063.tif',\n",
       " 'D:\\\\yonsei_tutoring\\\\segmentation\\\\lung_cancer\\\\input\\\\2d_images\\\\ID_0266_Z_0202.tif']"
      ]
     },
     "execution_count": 6,
     "metadata": {},
     "output_type": "execute_result"
    }
   ],
   "source": [
    "img_path"
   ]
  },
  {
   "cell_type": "code",
   "execution_count": 7,
   "metadata": {},
   "outputs": [
    {
     "data": {
      "text/plain": [
       "['D:\\\\yonsei_tutoring\\\\segmentation\\\\lung_cancer\\\\input\\\\2d_masks\\\\ID_0000_Z_0142.tif',\n",
       " 'D:\\\\yonsei_tutoring\\\\segmentation\\\\lung_cancer\\\\input\\\\2d_masks\\\\ID_0001_Z_0146.tif',\n",
       " 'D:\\\\yonsei_tutoring\\\\segmentation\\\\lung_cancer\\\\input\\\\2d_masks\\\\ID_0002_Z_0162.tif',\n",
       " 'D:\\\\yonsei_tutoring\\\\segmentation\\\\lung_cancer\\\\input\\\\2d_masks\\\\ID_0003_Z_0132.tif',\n",
       " 'D:\\\\yonsei_tutoring\\\\segmentation\\\\lung_cancer\\\\input\\\\2d_masks\\\\ID_0004_Z_0066.tif',\n",
       " 'D:\\\\yonsei_tutoring\\\\segmentation\\\\lung_cancer\\\\input\\\\2d_masks\\\\ID_0005_Z_0066.tif',\n",
       " 'D:\\\\yonsei_tutoring\\\\segmentation\\\\lung_cancer\\\\input\\\\2d_masks\\\\ID_0006_Z_0206.tif',\n",
       " 'D:\\\\yonsei_tutoring\\\\segmentation\\\\lung_cancer\\\\input\\\\2d_masks\\\\ID_0007_Z_0211.tif',\n",
       " 'D:\\\\yonsei_tutoring\\\\segmentation\\\\lung_cancer\\\\input\\\\2d_masks\\\\ID_0008_Z_0065.tif',\n",
       " 'D:\\\\yonsei_tutoring\\\\segmentation\\\\lung_cancer\\\\input\\\\2d_masks\\\\ID_0009_Z_0114.tif',\n",
       " 'D:\\\\yonsei_tutoring\\\\segmentation\\\\lung_cancer\\\\input\\\\2d_masks\\\\ID_0010_Z_0259.tif',\n",
       " 'D:\\\\yonsei_tutoring\\\\segmentation\\\\lung_cancer\\\\input\\\\2d_masks\\\\ID_0011_Z_0156.tif',\n",
       " 'D:\\\\yonsei_tutoring\\\\segmentation\\\\lung_cancer\\\\input\\\\2d_masks\\\\ID_0012_Z_0167.tif',\n",
       " 'D:\\\\yonsei_tutoring\\\\segmentation\\\\lung_cancer\\\\input\\\\2d_masks\\\\ID_0013_Z_0047.tif',\n",
       " 'D:\\\\yonsei_tutoring\\\\segmentation\\\\lung_cancer\\\\input\\\\2d_masks\\\\ID_0014_Z_0116.tif',\n",
       " 'D:\\\\yonsei_tutoring\\\\segmentation\\\\lung_cancer\\\\input\\\\2d_masks\\\\ID_0015_Z_0136.tif',\n",
       " 'D:\\\\yonsei_tutoring\\\\segmentation\\\\lung_cancer\\\\input\\\\2d_masks\\\\ID_0016_Z_0208.tif',\n",
       " 'D:\\\\yonsei_tutoring\\\\segmentation\\\\lung_cancer\\\\input\\\\2d_masks\\\\ID_0017_Z_0061.tif',\n",
       " 'D:\\\\yonsei_tutoring\\\\segmentation\\\\lung_cancer\\\\input\\\\2d_masks\\\\ID_0018_Z_0069.tif',\n",
       " 'D:\\\\yonsei_tutoring\\\\segmentation\\\\lung_cancer\\\\input\\\\2d_masks\\\\ID_0019_Z_0088.tif',\n",
       " 'D:\\\\yonsei_tutoring\\\\segmentation\\\\lung_cancer\\\\input\\\\2d_masks\\\\ID_0020_Z_0070.tif',\n",
       " 'D:\\\\yonsei_tutoring\\\\segmentation\\\\lung_cancer\\\\input\\\\2d_masks\\\\ID_0021_Z_0066.tif',\n",
       " 'D:\\\\yonsei_tutoring\\\\segmentation\\\\lung_cancer\\\\input\\\\2d_masks\\\\ID_0022_Z_0131.tif',\n",
       " 'D:\\\\yonsei_tutoring\\\\segmentation\\\\lung_cancer\\\\input\\\\2d_masks\\\\ID_0023_Z_0241.tif',\n",
       " 'D:\\\\yonsei_tutoring\\\\segmentation\\\\lung_cancer\\\\input\\\\2d_masks\\\\ID_0024_Z_0086.tif',\n",
       " 'D:\\\\yonsei_tutoring\\\\segmentation\\\\lung_cancer\\\\input\\\\2d_masks\\\\ID_0025_Z_0112.tif',\n",
       " 'D:\\\\yonsei_tutoring\\\\segmentation\\\\lung_cancer\\\\input\\\\2d_masks\\\\ID_0026_Z_0140.tif',\n",
       " 'D:\\\\yonsei_tutoring\\\\segmentation\\\\lung_cancer\\\\input\\\\2d_masks\\\\ID_0027_Z_0125.tif',\n",
       " 'D:\\\\yonsei_tutoring\\\\segmentation\\\\lung_cancer\\\\input\\\\2d_masks\\\\ID_0028_Z_0125.tif',\n",
       " 'D:\\\\yonsei_tutoring\\\\segmentation\\\\lung_cancer\\\\input\\\\2d_masks\\\\ID_0029_Z_0059.tif',\n",
       " 'D:\\\\yonsei_tutoring\\\\segmentation\\\\lung_cancer\\\\input\\\\2d_masks\\\\ID_0030_Z_0302.tif',\n",
       " 'D:\\\\yonsei_tutoring\\\\segmentation\\\\lung_cancer\\\\input\\\\2d_masks\\\\ID_0031_Z_0232.tif',\n",
       " 'D:\\\\yonsei_tutoring\\\\segmentation\\\\lung_cancer\\\\input\\\\2d_masks\\\\ID_0032_Z_0055.tif',\n",
       " 'D:\\\\yonsei_tutoring\\\\segmentation\\\\lung_cancer\\\\input\\\\2d_masks\\\\ID_0033_Z_0278.tif',\n",
       " 'D:\\\\yonsei_tutoring\\\\segmentation\\\\lung_cancer\\\\input\\\\2d_masks\\\\ID_0034_Z_0066.tif',\n",
       " 'D:\\\\yonsei_tutoring\\\\segmentation\\\\lung_cancer\\\\input\\\\2d_masks\\\\ID_0035_Z_0224.tif',\n",
       " 'D:\\\\yonsei_tutoring\\\\segmentation\\\\lung_cancer\\\\input\\\\2d_masks\\\\ID_0036_Z_0060.tif',\n",
       " 'D:\\\\yonsei_tutoring\\\\segmentation\\\\lung_cancer\\\\input\\\\2d_masks\\\\ID_0037_Z_0150.tif',\n",
       " 'D:\\\\yonsei_tutoring\\\\segmentation\\\\lung_cancer\\\\input\\\\2d_masks\\\\ID_0038_Z_0148.tif',\n",
       " 'D:\\\\yonsei_tutoring\\\\segmentation\\\\lung_cancer\\\\input\\\\2d_masks\\\\ID_0039_Z_0112.tif',\n",
       " 'D:\\\\yonsei_tutoring\\\\segmentation\\\\lung_cancer\\\\input\\\\2d_masks\\\\ID_0040_Z_0066.tif',\n",
       " 'D:\\\\yonsei_tutoring\\\\segmentation\\\\lung_cancer\\\\input\\\\2d_masks\\\\ID_0041_Z_0336.tif',\n",
       " 'D:\\\\yonsei_tutoring\\\\segmentation\\\\lung_cancer\\\\input\\\\2d_masks\\\\ID_0042_Z_0366.tif',\n",
       " 'D:\\\\yonsei_tutoring\\\\segmentation\\\\lung_cancer\\\\input\\\\2d_masks\\\\ID_0043_Z_0097.tif',\n",
       " 'D:\\\\yonsei_tutoring\\\\segmentation\\\\lung_cancer\\\\input\\\\2d_masks\\\\ID_0044_Z_0116.tif',\n",
       " 'D:\\\\yonsei_tutoring\\\\segmentation\\\\lung_cancer\\\\input\\\\2d_masks\\\\ID_0045_Z_0131.tif',\n",
       " 'D:\\\\yonsei_tutoring\\\\segmentation\\\\lung_cancer\\\\input\\\\2d_masks\\\\ID_0046_Z_0110.tif',\n",
       " 'D:\\\\yonsei_tutoring\\\\segmentation\\\\lung_cancer\\\\input\\\\2d_masks\\\\ID_0047_Z_0272.tif',\n",
       " 'D:\\\\yonsei_tutoring\\\\segmentation\\\\lung_cancer\\\\input\\\\2d_masks\\\\ID_0048_Z_0294.tif',\n",
       " 'D:\\\\yonsei_tutoring\\\\segmentation\\\\lung_cancer\\\\input\\\\2d_masks\\\\ID_0049_Z_0105.tif',\n",
       " 'D:\\\\yonsei_tutoring\\\\segmentation\\\\lung_cancer\\\\input\\\\2d_masks\\\\ID_0050_Z_0085.tif',\n",
       " 'D:\\\\yonsei_tutoring\\\\segmentation\\\\lung_cancer\\\\input\\\\2d_masks\\\\ID_0051_Z_0130.tif',\n",
       " 'D:\\\\yonsei_tutoring\\\\segmentation\\\\lung_cancer\\\\input\\\\2d_masks\\\\ID_0052_Z_0108.tif',\n",
       " 'D:\\\\yonsei_tutoring\\\\segmentation\\\\lung_cancer\\\\input\\\\2d_masks\\\\ID_0053_Z_0127.tif',\n",
       " 'D:\\\\yonsei_tutoring\\\\segmentation\\\\lung_cancer\\\\input\\\\2d_masks\\\\ID_0054_Z_0135.tif',\n",
       " 'D:\\\\yonsei_tutoring\\\\segmentation\\\\lung_cancer\\\\input\\\\2d_masks\\\\ID_0055_Z_0122.tif',\n",
       " 'D:\\\\yonsei_tutoring\\\\segmentation\\\\lung_cancer\\\\input\\\\2d_masks\\\\ID_0056_Z_0163.tif',\n",
       " 'D:\\\\yonsei_tutoring\\\\segmentation\\\\lung_cancer\\\\input\\\\2d_masks\\\\ID_0057_Z_0070.tif',\n",
       " 'D:\\\\yonsei_tutoring\\\\segmentation\\\\lung_cancer\\\\input\\\\2d_masks\\\\ID_0058_Z_0150.tif',\n",
       " 'D:\\\\yonsei_tutoring\\\\segmentation\\\\lung_cancer\\\\input\\\\2d_masks\\\\ID_0059_Z_0150.tif',\n",
       " 'D:\\\\yonsei_tutoring\\\\segmentation\\\\lung_cancer\\\\input\\\\2d_masks\\\\ID_0060_Z_0147.tif',\n",
       " 'D:\\\\yonsei_tutoring\\\\segmentation\\\\lung_cancer\\\\input\\\\2d_masks\\\\ID_0061_Z_0064.tif',\n",
       " 'D:\\\\yonsei_tutoring\\\\segmentation\\\\lung_cancer\\\\input\\\\2d_masks\\\\ID_0062_Z_0125.tif',\n",
       " 'D:\\\\yonsei_tutoring\\\\segmentation\\\\lung_cancer\\\\input\\\\2d_masks\\\\ID_0063_Z_0067.tif',\n",
       " 'D:\\\\yonsei_tutoring\\\\segmentation\\\\lung_cancer\\\\input\\\\2d_masks\\\\ID_0064_Z_0069.tif',\n",
       " 'D:\\\\yonsei_tutoring\\\\segmentation\\\\lung_cancer\\\\input\\\\2d_masks\\\\ID_0065_Z_0126.tif',\n",
       " 'D:\\\\yonsei_tutoring\\\\segmentation\\\\lung_cancer\\\\input\\\\2d_masks\\\\ID_0066_Z_0141.tif',\n",
       " 'D:\\\\yonsei_tutoring\\\\segmentation\\\\lung_cancer\\\\input\\\\2d_masks\\\\ID_0067_Z_0238.tif',\n",
       " 'D:\\\\yonsei_tutoring\\\\segmentation\\\\lung_cancer\\\\input\\\\2d_masks\\\\ID_0068_Z_0055.tif',\n",
       " 'D:\\\\yonsei_tutoring\\\\segmentation\\\\lung_cancer\\\\input\\\\2d_masks\\\\ID_0069_Z_0054.tif',\n",
       " 'D:\\\\yonsei_tutoring\\\\segmentation\\\\lung_cancer\\\\input\\\\2d_masks\\\\ID_0070_Z_0120.tif',\n",
       " 'D:\\\\yonsei_tutoring\\\\segmentation\\\\lung_cancer\\\\input\\\\2d_masks\\\\ID_0071_Z_0072.tif',\n",
       " 'D:\\\\yonsei_tutoring\\\\segmentation\\\\lung_cancer\\\\input\\\\2d_masks\\\\ID_0072_Z_0119.tif',\n",
       " 'D:\\\\yonsei_tutoring\\\\segmentation\\\\lung_cancer\\\\input\\\\2d_masks\\\\ID_0073_Z_0076.tif',\n",
       " 'D:\\\\yonsei_tutoring\\\\segmentation\\\\lung_cancer\\\\input\\\\2d_masks\\\\ID_0074_Z_0066.tif',\n",
       " 'D:\\\\yonsei_tutoring\\\\segmentation\\\\lung_cancer\\\\input\\\\2d_masks\\\\ID_0075_Z_0061.tif',\n",
       " 'D:\\\\yonsei_tutoring\\\\segmentation\\\\lung_cancer\\\\input\\\\2d_masks\\\\ID_0076_Z_0230.tif',\n",
       " 'D:\\\\yonsei_tutoring\\\\segmentation\\\\lung_cancer\\\\input\\\\2d_masks\\\\ID_0077_Z_0173.tif',\n",
       " 'D:\\\\yonsei_tutoring\\\\segmentation\\\\lung_cancer\\\\input\\\\2d_masks\\\\ID_0078_Z_0058.tif',\n",
       " 'D:\\\\yonsei_tutoring\\\\segmentation\\\\lung_cancer\\\\input\\\\2d_masks\\\\ID_0079_Z_0072.tif',\n",
       " 'D:\\\\yonsei_tutoring\\\\segmentation\\\\lung_cancer\\\\input\\\\2d_masks\\\\ID_0080_Z_0213.tif',\n",
       " 'D:\\\\yonsei_tutoring\\\\segmentation\\\\lung_cancer\\\\input\\\\2d_masks\\\\ID_0081_Z_0066.tif',\n",
       " 'D:\\\\yonsei_tutoring\\\\segmentation\\\\lung_cancer\\\\input\\\\2d_masks\\\\ID_0082_Z_0278.tif',\n",
       " 'D:\\\\yonsei_tutoring\\\\segmentation\\\\lung_cancer\\\\input\\\\2d_masks\\\\ID_0083_Z_0256.tif',\n",
       " 'D:\\\\yonsei_tutoring\\\\segmentation\\\\lung_cancer\\\\input\\\\2d_masks\\\\ID_0084_Z_0218.tif',\n",
       " 'D:\\\\yonsei_tutoring\\\\segmentation\\\\lung_cancer\\\\input\\\\2d_masks\\\\ID_0085_Z_0237.tif',\n",
       " 'D:\\\\yonsei_tutoring\\\\segmentation\\\\lung_cancer\\\\input\\\\2d_masks\\\\ID_0086_Z_0253.tif',\n",
       " 'D:\\\\yonsei_tutoring\\\\segmentation\\\\lung_cancer\\\\input\\\\2d_masks\\\\ID_0087_Z_0237.tif',\n",
       " 'D:\\\\yonsei_tutoring\\\\segmentation\\\\lung_cancer\\\\input\\\\2d_masks\\\\ID_0088_Z_0100.tif',\n",
       " 'D:\\\\yonsei_tutoring\\\\segmentation\\\\lung_cancer\\\\input\\\\2d_masks\\\\ID_0089_Z_0341.tif',\n",
       " 'D:\\\\yonsei_tutoring\\\\segmentation\\\\lung_cancer\\\\input\\\\2d_masks\\\\ID_0090_Z_0119.tif',\n",
       " 'D:\\\\yonsei_tutoring\\\\segmentation\\\\lung_cancer\\\\input\\\\2d_masks\\\\ID_0091_Z_0063.tif',\n",
       " 'D:\\\\yonsei_tutoring\\\\segmentation\\\\lung_cancer\\\\input\\\\2d_masks\\\\ID_0092_Z_0258.tif',\n",
       " 'D:\\\\yonsei_tutoring\\\\segmentation\\\\lung_cancer\\\\input\\\\2d_masks\\\\ID_0093_Z_0123.tif',\n",
       " 'D:\\\\yonsei_tutoring\\\\segmentation\\\\lung_cancer\\\\input\\\\2d_masks\\\\ID_0094_Z_0214.tif',\n",
       " 'D:\\\\yonsei_tutoring\\\\segmentation\\\\lung_cancer\\\\input\\\\2d_masks\\\\ID_0095_Z_0097.tif',\n",
       " 'D:\\\\yonsei_tutoring\\\\segmentation\\\\lung_cancer\\\\input\\\\2d_masks\\\\ID_0096_Z_0216.tif',\n",
       " 'D:\\\\yonsei_tutoring\\\\segmentation\\\\lung_cancer\\\\input\\\\2d_masks\\\\ID_0097_Z_0098.tif',\n",
       " 'D:\\\\yonsei_tutoring\\\\segmentation\\\\lung_cancer\\\\input\\\\2d_masks\\\\ID_0098_Z_0068.tif',\n",
       " 'D:\\\\yonsei_tutoring\\\\segmentation\\\\lung_cancer\\\\input\\\\2d_masks\\\\ID_0099_Z_0069.tif',\n",
       " 'D:\\\\yonsei_tutoring\\\\segmentation\\\\lung_cancer\\\\input\\\\2d_masks\\\\ID_0100_Z_0062.tif',\n",
       " 'D:\\\\yonsei_tutoring\\\\segmentation\\\\lung_cancer\\\\input\\\\2d_masks\\\\ID_0101_Z_0196.tif',\n",
       " 'D:\\\\yonsei_tutoring\\\\segmentation\\\\lung_cancer\\\\input\\\\2d_masks\\\\ID_0102_Z_0238.tif',\n",
       " 'D:\\\\yonsei_tutoring\\\\segmentation\\\\lung_cancer\\\\input\\\\2d_masks\\\\ID_0103_Z_0069.tif',\n",
       " 'D:\\\\yonsei_tutoring\\\\segmentation\\\\lung_cancer\\\\input\\\\2d_masks\\\\ID_0104_Z_0101.tif',\n",
       " 'D:\\\\yonsei_tutoring\\\\segmentation\\\\lung_cancer\\\\input\\\\2d_masks\\\\ID_0105_Z_0240.tif',\n",
       " 'D:\\\\yonsei_tutoring\\\\segmentation\\\\lung_cancer\\\\input\\\\2d_masks\\\\ID_0106_Z_0130.tif',\n",
       " 'D:\\\\yonsei_tutoring\\\\segmentation\\\\lung_cancer\\\\input\\\\2d_masks\\\\ID_0107_Z_0062.tif',\n",
       " 'D:\\\\yonsei_tutoring\\\\segmentation\\\\lung_cancer\\\\input\\\\2d_masks\\\\ID_0108_Z_0259.tif',\n",
       " 'D:\\\\yonsei_tutoring\\\\segmentation\\\\lung_cancer\\\\input\\\\2d_masks\\\\ID_0109_Z_0134.tif',\n",
       " 'D:\\\\yonsei_tutoring\\\\segmentation\\\\lung_cancer\\\\input\\\\2d_masks\\\\ID_0110_Z_0066.tif',\n",
       " 'D:\\\\yonsei_tutoring\\\\segmentation\\\\lung_cancer\\\\input\\\\2d_masks\\\\ID_0111_Z_0078.tif',\n",
       " 'D:\\\\yonsei_tutoring\\\\segmentation\\\\lung_cancer\\\\input\\\\2d_masks\\\\ID_0112_Z_0085.tif',\n",
       " 'D:\\\\yonsei_tutoring\\\\segmentation\\\\lung_cancer\\\\input\\\\2d_masks\\\\ID_0113_Z_0090.tif',\n",
       " 'D:\\\\yonsei_tutoring\\\\segmentation\\\\lung_cancer\\\\input\\\\2d_masks\\\\ID_0114_Z_0078.tif',\n",
       " 'D:\\\\yonsei_tutoring\\\\segmentation\\\\lung_cancer\\\\input\\\\2d_masks\\\\ID_0115_Z_0060.tif',\n",
       " 'D:\\\\yonsei_tutoring\\\\segmentation\\\\lung_cancer\\\\input\\\\2d_masks\\\\ID_0116_Z_0116.tif',\n",
       " 'D:\\\\yonsei_tutoring\\\\segmentation\\\\lung_cancer\\\\input\\\\2d_masks\\\\ID_0117_Z_0235.tif',\n",
       " 'D:\\\\yonsei_tutoring\\\\segmentation\\\\lung_cancer\\\\input\\\\2d_masks\\\\ID_0118_Z_0206.tif',\n",
       " 'D:\\\\yonsei_tutoring\\\\segmentation\\\\lung_cancer\\\\input\\\\2d_masks\\\\ID_0119_Z_0063.tif',\n",
       " 'D:\\\\yonsei_tutoring\\\\segmentation\\\\lung_cancer\\\\input\\\\2d_masks\\\\ID_0120_Z_0123.tif',\n",
       " 'D:\\\\yonsei_tutoring\\\\segmentation\\\\lung_cancer\\\\input\\\\2d_masks\\\\ID_0121_Z_0245.tif',\n",
       " 'D:\\\\yonsei_tutoring\\\\segmentation\\\\lung_cancer\\\\input\\\\2d_masks\\\\ID_0122_Z_0066.tif',\n",
       " 'D:\\\\yonsei_tutoring\\\\segmentation\\\\lung_cancer\\\\input\\\\2d_masks\\\\ID_0123_Z_0073.tif',\n",
       " 'D:\\\\yonsei_tutoring\\\\segmentation\\\\lung_cancer\\\\input\\\\2d_masks\\\\ID_0124_Z_0066.tif',\n",
       " 'D:\\\\yonsei_tutoring\\\\segmentation\\\\lung_cancer\\\\input\\\\2d_masks\\\\ID_0125_Z_0119.tif',\n",
       " 'D:\\\\yonsei_tutoring\\\\segmentation\\\\lung_cancer\\\\input\\\\2d_masks\\\\ID_0126_Z_0139.tif',\n",
       " 'D:\\\\yonsei_tutoring\\\\segmentation\\\\lung_cancer\\\\input\\\\2d_masks\\\\ID_0127_Z_0064.tif',\n",
       " 'D:\\\\yonsei_tutoring\\\\segmentation\\\\lung_cancer\\\\input\\\\2d_masks\\\\ID_0128_Z_0130.tif',\n",
       " 'D:\\\\yonsei_tutoring\\\\segmentation\\\\lung_cancer\\\\input\\\\2d_masks\\\\ID_0129_Z_0104.tif',\n",
       " 'D:\\\\yonsei_tutoring\\\\segmentation\\\\lung_cancer\\\\input\\\\2d_masks\\\\ID_0130_Z_0140.tif',\n",
       " 'D:\\\\yonsei_tutoring\\\\segmentation\\\\lung_cancer\\\\input\\\\2d_masks\\\\ID_0131_Z_0097.tif',\n",
       " 'D:\\\\yonsei_tutoring\\\\segmentation\\\\lung_cancer\\\\input\\\\2d_masks\\\\ID_0132_Z_0069.tif',\n",
       " 'D:\\\\yonsei_tutoring\\\\segmentation\\\\lung_cancer\\\\input\\\\2d_masks\\\\ID_0133_Z_0070.tif',\n",
       " 'D:\\\\yonsei_tutoring\\\\segmentation\\\\lung_cancer\\\\input\\\\2d_masks\\\\ID_0134_Z_0137.tif',\n",
       " 'D:\\\\yonsei_tutoring\\\\segmentation\\\\lung_cancer\\\\input\\\\2d_masks\\\\ID_0135_Z_0066.tif',\n",
       " 'D:\\\\yonsei_tutoring\\\\segmentation\\\\lung_cancer\\\\input\\\\2d_masks\\\\ID_0136_Z_0122.tif',\n",
       " 'D:\\\\yonsei_tutoring\\\\segmentation\\\\lung_cancer\\\\input\\\\2d_masks\\\\ID_0137_Z_0155.tif',\n",
       " 'D:\\\\yonsei_tutoring\\\\segmentation\\\\lung_cancer\\\\input\\\\2d_masks\\\\ID_0138_Z_0063.tif',\n",
       " 'D:\\\\yonsei_tutoring\\\\segmentation\\\\lung_cancer\\\\input\\\\2d_masks\\\\ID_0139_Z_0056.tif',\n",
       " 'D:\\\\yonsei_tutoring\\\\segmentation\\\\lung_cancer\\\\input\\\\2d_masks\\\\ID_0140_Z_0230.tif',\n",
       " 'D:\\\\yonsei_tutoring\\\\segmentation\\\\lung_cancer\\\\input\\\\2d_masks\\\\ID_0141_Z_0128.tif',\n",
       " 'D:\\\\yonsei_tutoring\\\\segmentation\\\\lung_cancer\\\\input\\\\2d_masks\\\\ID_0142_Z_0145.tif',\n",
       " 'D:\\\\yonsei_tutoring\\\\segmentation\\\\lung_cancer\\\\input\\\\2d_masks\\\\ID_0143_Z_0124.tif',\n",
       " 'D:\\\\yonsei_tutoring\\\\segmentation\\\\lung_cancer\\\\input\\\\2d_masks\\\\ID_0144_Z_0224.tif',\n",
       " 'D:\\\\yonsei_tutoring\\\\segmentation\\\\lung_cancer\\\\input\\\\2d_masks\\\\ID_0145_Z_0059.tif',\n",
       " 'D:\\\\yonsei_tutoring\\\\segmentation\\\\lung_cancer\\\\input\\\\2d_masks\\\\ID_0146_Z_0122.tif',\n",
       " 'D:\\\\yonsei_tutoring\\\\segmentation\\\\lung_cancer\\\\input\\\\2d_masks\\\\ID_0147_Z_0051.tif',\n",
       " 'D:\\\\yonsei_tutoring\\\\segmentation\\\\lung_cancer\\\\input\\\\2d_masks\\\\ID_0148_Z_0254.tif',\n",
       " 'D:\\\\yonsei_tutoring\\\\segmentation\\\\lung_cancer\\\\input\\\\2d_masks\\\\ID_0149_Z_0269.tif',\n",
       " 'D:\\\\yonsei_tutoring\\\\segmentation\\\\lung_cancer\\\\input\\\\2d_masks\\\\ID_0150_Z_0090.tif',\n",
       " 'D:\\\\yonsei_tutoring\\\\segmentation\\\\lung_cancer\\\\input\\\\2d_masks\\\\ID_0151_Z_0140.tif',\n",
       " 'D:\\\\yonsei_tutoring\\\\segmentation\\\\lung_cancer\\\\input\\\\2d_masks\\\\ID_0152_Z_0133.tif',\n",
       " 'D:\\\\yonsei_tutoring\\\\segmentation\\\\lung_cancer\\\\input\\\\2d_masks\\\\ID_0153_Z_0065.tif',\n",
       " 'D:\\\\yonsei_tutoring\\\\segmentation\\\\lung_cancer\\\\input\\\\2d_masks\\\\ID_0154_Z_0070.tif',\n",
       " 'D:\\\\yonsei_tutoring\\\\segmentation\\\\lung_cancer\\\\input\\\\2d_masks\\\\ID_0155_Z_0130.tif',\n",
       " 'D:\\\\yonsei_tutoring\\\\segmentation\\\\lung_cancer\\\\input\\\\2d_masks\\\\ID_0156_Z_0099.tif',\n",
       " 'D:\\\\yonsei_tutoring\\\\segmentation\\\\lung_cancer\\\\input\\\\2d_masks\\\\ID_0157_Z_0070.tif',\n",
       " 'D:\\\\yonsei_tutoring\\\\segmentation\\\\lung_cancer\\\\input\\\\2d_masks\\\\ID_0158_Z_0164.tif',\n",
       " 'D:\\\\yonsei_tutoring\\\\segmentation\\\\lung_cancer\\\\input\\\\2d_masks\\\\ID_0159_Z_0104.tif',\n",
       " 'D:\\\\yonsei_tutoring\\\\segmentation\\\\lung_cancer\\\\input\\\\2d_masks\\\\ID_0160_Z_0140.tif',\n",
       " 'D:\\\\yonsei_tutoring\\\\segmentation\\\\lung_cancer\\\\input\\\\2d_masks\\\\ID_0161_Z_0075.tif',\n",
       " 'D:\\\\yonsei_tutoring\\\\segmentation\\\\lung_cancer\\\\input\\\\2d_masks\\\\ID_0162_Z_0091.tif',\n",
       " 'D:\\\\yonsei_tutoring\\\\segmentation\\\\lung_cancer\\\\input\\\\2d_masks\\\\ID_0163_Z_0138.tif',\n",
       " 'D:\\\\yonsei_tutoring\\\\segmentation\\\\lung_cancer\\\\input\\\\2d_masks\\\\ID_0164_Z_0066.tif',\n",
       " 'D:\\\\yonsei_tutoring\\\\segmentation\\\\lung_cancer\\\\input\\\\2d_masks\\\\ID_0165_Z_0145.tif',\n",
       " 'D:\\\\yonsei_tutoring\\\\segmentation\\\\lung_cancer\\\\input\\\\2d_masks\\\\ID_0166_Z_0072.tif',\n",
       " 'D:\\\\yonsei_tutoring\\\\segmentation\\\\lung_cancer\\\\input\\\\2d_masks\\\\ID_0167_Z_0128.tif',\n",
       " 'D:\\\\yonsei_tutoring\\\\segmentation\\\\lung_cancer\\\\input\\\\2d_masks\\\\ID_0168_Z_0130.tif',\n",
       " 'D:\\\\yonsei_tutoring\\\\segmentation\\\\lung_cancer\\\\input\\\\2d_masks\\\\ID_0169_Z_0066.tif',\n",
       " 'D:\\\\yonsei_tutoring\\\\segmentation\\\\lung_cancer\\\\input\\\\2d_masks\\\\ID_0170_Z_0066.tif',\n",
       " 'D:\\\\yonsei_tutoring\\\\segmentation\\\\lung_cancer\\\\input\\\\2d_masks\\\\ID_0171_Z_0184.tif',\n",
       " 'D:\\\\yonsei_tutoring\\\\segmentation\\\\lung_cancer\\\\input\\\\2d_masks\\\\ID_0172_Z_0098.tif',\n",
       " 'D:\\\\yonsei_tutoring\\\\segmentation\\\\lung_cancer\\\\input\\\\2d_masks\\\\ID_0173_Z_0110.tif',\n",
       " 'D:\\\\yonsei_tutoring\\\\segmentation\\\\lung_cancer\\\\input\\\\2d_masks\\\\ID_0174_Z_0054.tif',\n",
       " 'D:\\\\yonsei_tutoring\\\\segmentation\\\\lung_cancer\\\\input\\\\2d_masks\\\\ID_0175_Z_0165.tif',\n",
       " 'D:\\\\yonsei_tutoring\\\\segmentation\\\\lung_cancer\\\\input\\\\2d_masks\\\\ID_0176_Z_0162.tif',\n",
       " 'D:\\\\yonsei_tutoring\\\\segmentation\\\\lung_cancer\\\\input\\\\2d_masks\\\\ID_0177_Z_0163.tif',\n",
       " 'D:\\\\yonsei_tutoring\\\\segmentation\\\\lung_cancer\\\\input\\\\2d_masks\\\\ID_0178_Z_0127.tif',\n",
       " 'D:\\\\yonsei_tutoring\\\\segmentation\\\\lung_cancer\\\\input\\\\2d_masks\\\\ID_0179_Z_0130.tif',\n",
       " 'D:\\\\yonsei_tutoring\\\\segmentation\\\\lung_cancer\\\\input\\\\2d_masks\\\\ID_0180_Z_0086.tif',\n",
       " 'D:\\\\yonsei_tutoring\\\\segmentation\\\\lung_cancer\\\\input\\\\2d_masks\\\\ID_0181_Z_0122.tif',\n",
       " 'D:\\\\yonsei_tutoring\\\\segmentation\\\\lung_cancer\\\\input\\\\2d_masks\\\\ID_0182_Z_0060.tif',\n",
       " 'D:\\\\yonsei_tutoring\\\\segmentation\\\\lung_cancer\\\\input\\\\2d_masks\\\\ID_0183_Z_0242.tif',\n",
       " 'D:\\\\yonsei_tutoring\\\\segmentation\\\\lung_cancer\\\\input\\\\2d_masks\\\\ID_0184_Z_0089.tif',\n",
       " 'D:\\\\yonsei_tutoring\\\\segmentation\\\\lung_cancer\\\\input\\\\2d_masks\\\\ID_0185_Z_0131.tif',\n",
       " 'D:\\\\yonsei_tutoring\\\\segmentation\\\\lung_cancer\\\\input\\\\2d_masks\\\\ID_0186_Z_0102.tif',\n",
       " 'D:\\\\yonsei_tutoring\\\\segmentation\\\\lung_cancer\\\\input\\\\2d_masks\\\\ID_0187_Z_0145.tif',\n",
       " 'D:\\\\yonsei_tutoring\\\\segmentation\\\\lung_cancer\\\\input\\\\2d_masks\\\\ID_0188_Z_0137.tif',\n",
       " 'D:\\\\yonsei_tutoring\\\\segmentation\\\\lung_cancer\\\\input\\\\2d_masks\\\\ID_0189_Z_0132.tif',\n",
       " 'D:\\\\yonsei_tutoring\\\\segmentation\\\\lung_cancer\\\\input\\\\2d_masks\\\\ID_0190_Z_0070.tif',\n",
       " 'D:\\\\yonsei_tutoring\\\\segmentation\\\\lung_cancer\\\\input\\\\2d_masks\\\\ID_0191_Z_0140.tif',\n",
       " 'D:\\\\yonsei_tutoring\\\\segmentation\\\\lung_cancer\\\\input\\\\2d_masks\\\\ID_0192_Z_0064.tif',\n",
       " 'D:\\\\yonsei_tutoring\\\\segmentation\\\\lung_cancer\\\\input\\\\2d_masks\\\\ID_0193_Z_0060.tif',\n",
       " 'D:\\\\yonsei_tutoring\\\\segmentation\\\\lung_cancer\\\\input\\\\2d_masks\\\\ID_0194_Z_0120.tif',\n",
       " 'D:\\\\yonsei_tutoring\\\\segmentation\\\\lung_cancer\\\\input\\\\2d_masks\\\\ID_0195_Z_0062.tif',\n",
       " 'D:\\\\yonsei_tutoring\\\\segmentation\\\\lung_cancer\\\\input\\\\2d_masks\\\\ID_0196_Z_0259.tif',\n",
       " 'D:\\\\yonsei_tutoring\\\\segmentation\\\\lung_cancer\\\\input\\\\2d_masks\\\\ID_0197_Z_0123.tif',\n",
       " 'D:\\\\yonsei_tutoring\\\\segmentation\\\\lung_cancer\\\\input\\\\2d_masks\\\\ID_0198_Z_0120.tif',\n",
       " 'D:\\\\yonsei_tutoring\\\\segmentation\\\\lung_cancer\\\\input\\\\2d_masks\\\\ID_0199_Z_0119.tif',\n",
       " 'D:\\\\yonsei_tutoring\\\\segmentation\\\\lung_cancer\\\\input\\\\2d_masks\\\\ID_0200_Z_0125.tif',\n",
       " 'D:\\\\yonsei_tutoring\\\\segmentation\\\\lung_cancer\\\\input\\\\2d_masks\\\\ID_0201_Z_0241.tif',\n",
       " 'D:\\\\yonsei_tutoring\\\\segmentation\\\\lung_cancer\\\\input\\\\2d_masks\\\\ID_0202_Z_0098.tif',\n",
       " 'D:\\\\yonsei_tutoring\\\\segmentation\\\\lung_cancer\\\\input\\\\2d_masks\\\\ID_0203_Z_0079.tif',\n",
       " 'D:\\\\yonsei_tutoring\\\\segmentation\\\\lung_cancer\\\\input\\\\2d_masks\\\\ID_0204_Z_0066.tif',\n",
       " 'D:\\\\yonsei_tutoring\\\\segmentation\\\\lung_cancer\\\\input\\\\2d_masks\\\\ID_0205_Z_0066.tif',\n",
       " 'D:\\\\yonsei_tutoring\\\\segmentation\\\\lung_cancer\\\\input\\\\2d_masks\\\\ID_0206_Z_0062.tif',\n",
       " 'D:\\\\yonsei_tutoring\\\\segmentation\\\\lung_cancer\\\\input\\\\2d_masks\\\\ID_0207_Z_0160.tif',\n",
       " 'D:\\\\yonsei_tutoring\\\\segmentation\\\\lung_cancer\\\\input\\\\2d_masks\\\\ID_0208_Z_0063.tif',\n",
       " 'D:\\\\yonsei_tutoring\\\\segmentation\\\\lung_cancer\\\\input\\\\2d_masks\\\\ID_0209_Z_0267.tif',\n",
       " 'D:\\\\yonsei_tutoring\\\\segmentation\\\\lung_cancer\\\\input\\\\2d_masks\\\\ID_0210_Z_0140.tif',\n",
       " 'D:\\\\yonsei_tutoring\\\\segmentation\\\\lung_cancer\\\\input\\\\2d_masks\\\\ID_0211_Z_0140.tif',\n",
       " 'D:\\\\yonsei_tutoring\\\\segmentation\\\\lung_cancer\\\\input\\\\2d_masks\\\\ID_0212_Z_0064.tif',\n",
       " 'D:\\\\yonsei_tutoring\\\\segmentation\\\\lung_cancer\\\\input\\\\2d_masks\\\\ID_0213_Z_0088.tif',\n",
       " 'D:\\\\yonsei_tutoring\\\\segmentation\\\\lung_cancer\\\\input\\\\2d_masks\\\\ID_0214_Z_0120.tif',\n",
       " 'D:\\\\yonsei_tutoring\\\\segmentation\\\\lung_cancer\\\\input\\\\2d_masks\\\\ID_0215_Z_0238.tif',\n",
       " 'D:\\\\yonsei_tutoring\\\\segmentation\\\\lung_cancer\\\\input\\\\2d_masks\\\\ID_0216_Z_0057.tif',\n",
       " 'D:\\\\yonsei_tutoring\\\\segmentation\\\\lung_cancer\\\\input\\\\2d_masks\\\\ID_0217_Z_0078.tif',\n",
       " 'D:\\\\yonsei_tutoring\\\\segmentation\\\\lung_cancer\\\\input\\\\2d_masks\\\\ID_0218_Z_0231.tif',\n",
       " 'D:\\\\yonsei_tutoring\\\\segmentation\\\\lung_cancer\\\\input\\\\2d_masks\\\\ID_0219_Z_0222.tif',\n",
       " 'D:\\\\yonsei_tutoring\\\\segmentation\\\\lung_cancer\\\\input\\\\2d_masks\\\\ID_0220_Z_0066.tif',\n",
       " 'D:\\\\yonsei_tutoring\\\\segmentation\\\\lung_cancer\\\\input\\\\2d_masks\\\\ID_0221_Z_0081.tif',\n",
       " 'D:\\\\yonsei_tutoring\\\\segmentation\\\\lung_cancer\\\\input\\\\2d_masks\\\\ID_0222_Z_0122.tif',\n",
       " 'D:\\\\yonsei_tutoring\\\\segmentation\\\\lung_cancer\\\\input\\\\2d_masks\\\\ID_0223_Z_0214.tif',\n",
       " 'D:\\\\yonsei_tutoring\\\\segmentation\\\\lung_cancer\\\\input\\\\2d_masks\\\\ID_0224_Z_0210.tif',\n",
       " 'D:\\\\yonsei_tutoring\\\\segmentation\\\\lung_cancer\\\\input\\\\2d_masks\\\\ID_0225_Z_0069.tif',\n",
       " 'D:\\\\yonsei_tutoring\\\\segmentation\\\\lung_cancer\\\\input\\\\2d_masks\\\\ID_0226_Z_0066.tif',\n",
       " 'D:\\\\yonsei_tutoring\\\\segmentation\\\\lung_cancer\\\\input\\\\2d_masks\\\\ID_0227_Z_0181.tif',\n",
       " 'D:\\\\yonsei_tutoring\\\\segmentation\\\\lung_cancer\\\\input\\\\2d_masks\\\\ID_0228_Z_0097.tif',\n",
       " 'D:\\\\yonsei_tutoring\\\\segmentation\\\\lung_cancer\\\\input\\\\2d_masks\\\\ID_0229_Z_0060.tif',\n",
       " 'D:\\\\yonsei_tutoring\\\\segmentation\\\\lung_cancer\\\\input\\\\2d_masks\\\\ID_0230_Z_0242.tif',\n",
       " 'D:\\\\yonsei_tutoring\\\\segmentation\\\\lung_cancer\\\\input\\\\2d_masks\\\\ID_0231_Z_0140.tif',\n",
       " 'D:\\\\yonsei_tutoring\\\\segmentation\\\\lung_cancer\\\\input\\\\2d_masks\\\\ID_0232_Z_0063.tif',\n",
       " 'D:\\\\yonsei_tutoring\\\\segmentation\\\\lung_cancer\\\\input\\\\2d_masks\\\\ID_0233_Z_0064.tif',\n",
       " 'D:\\\\yonsei_tutoring\\\\segmentation\\\\lung_cancer\\\\input\\\\2d_masks\\\\ID_0234_Z_0096.tif',\n",
       " 'D:\\\\yonsei_tutoring\\\\segmentation\\\\lung_cancer\\\\input\\\\2d_masks\\\\ID_0235_Z_0058.tif',\n",
       " 'D:\\\\yonsei_tutoring\\\\segmentation\\\\lung_cancer\\\\input\\\\2d_masks\\\\ID_0236_Z_0122.tif',\n",
       " 'D:\\\\yonsei_tutoring\\\\segmentation\\\\lung_cancer\\\\input\\\\2d_masks\\\\ID_0237_Z_0061.tif',\n",
       " 'D:\\\\yonsei_tutoring\\\\segmentation\\\\lung_cancer\\\\input\\\\2d_masks\\\\ID_0238_Z_0253.tif',\n",
       " 'D:\\\\yonsei_tutoring\\\\segmentation\\\\lung_cancer\\\\input\\\\2d_masks\\\\ID_0239_Z_0365.tif',\n",
       " 'D:\\\\yonsei_tutoring\\\\segmentation\\\\lung_cancer\\\\input\\\\2d_masks\\\\ID_0240_Z_0066.tif',\n",
       " 'D:\\\\yonsei_tutoring\\\\segmentation\\\\lung_cancer\\\\input\\\\2d_masks\\\\ID_0241_Z_0124.tif',\n",
       " 'D:\\\\yonsei_tutoring\\\\segmentation\\\\lung_cancer\\\\input\\\\2d_masks\\\\ID_0242_Z_0123.tif',\n",
       " 'D:\\\\yonsei_tutoring\\\\segmentation\\\\lung_cancer\\\\input\\\\2d_masks\\\\ID_0243_Z_0056.tif',\n",
       " 'D:\\\\yonsei_tutoring\\\\segmentation\\\\lung_cancer\\\\input\\\\2d_masks\\\\ID_0244_Z_0184.tif',\n",
       " 'D:\\\\yonsei_tutoring\\\\segmentation\\\\lung_cancer\\\\input\\\\2d_masks\\\\ID_0245_Z_0318.tif',\n",
       " 'D:\\\\yonsei_tutoring\\\\segmentation\\\\lung_cancer\\\\input\\\\2d_masks\\\\ID_0246_Z_0228.tif',\n",
       " 'D:\\\\yonsei_tutoring\\\\segmentation\\\\lung_cancer\\\\input\\\\2d_masks\\\\ID_0247_Z_0070.tif',\n",
       " 'D:\\\\yonsei_tutoring\\\\segmentation\\\\lung_cancer\\\\input\\\\2d_masks\\\\ID_0248_Z_0062.tif',\n",
       " 'D:\\\\yonsei_tutoring\\\\segmentation\\\\lung_cancer\\\\input\\\\2d_masks\\\\ID_0249_Z_0070.tif',\n",
       " 'D:\\\\yonsei_tutoring\\\\segmentation\\\\lung_cancer\\\\input\\\\2d_masks\\\\ID_0250_Z_0070.tif',\n",
       " 'D:\\\\yonsei_tutoring\\\\segmentation\\\\lung_cancer\\\\input\\\\2d_masks\\\\ID_0251_Z_0125.tif',\n",
       " 'D:\\\\yonsei_tutoring\\\\segmentation\\\\lung_cancer\\\\input\\\\2d_masks\\\\ID_0252_Z_0064.tif',\n",
       " 'D:\\\\yonsei_tutoring\\\\segmentation\\\\lung_cancer\\\\input\\\\2d_masks\\\\ID_0253_Z_0238.tif',\n",
       " 'D:\\\\yonsei_tutoring\\\\segmentation\\\\lung_cancer\\\\input\\\\2d_masks\\\\ID_0254_Z_0075.tif',\n",
       " 'D:\\\\yonsei_tutoring\\\\segmentation\\\\lung_cancer\\\\input\\\\2d_masks\\\\ID_0255_Z_0061.tif',\n",
       " 'D:\\\\yonsei_tutoring\\\\segmentation\\\\lung_cancer\\\\input\\\\2d_masks\\\\ID_0256_Z_0062.tif',\n",
       " 'D:\\\\yonsei_tutoring\\\\segmentation\\\\lung_cancer\\\\input\\\\2d_masks\\\\ID_0257_Z_0071.tif',\n",
       " 'D:\\\\yonsei_tutoring\\\\segmentation\\\\lung_cancer\\\\input\\\\2d_masks\\\\ID_0258_Z_0072.tif',\n",
       " 'D:\\\\yonsei_tutoring\\\\segmentation\\\\lung_cancer\\\\input\\\\2d_masks\\\\ID_0259_Z_0073.tif',\n",
       " 'D:\\\\yonsei_tutoring\\\\segmentation\\\\lung_cancer\\\\input\\\\2d_masks\\\\ID_0260_Z_0148.tif',\n",
       " 'D:\\\\yonsei_tutoring\\\\segmentation\\\\lung_cancer\\\\input\\\\2d_masks\\\\ID_0261_Z_0238.tif',\n",
       " 'D:\\\\yonsei_tutoring\\\\segmentation\\\\lung_cancer\\\\input\\\\2d_masks\\\\ID_0262_Z_0064.tif',\n",
       " 'D:\\\\yonsei_tutoring\\\\segmentation\\\\lung_cancer\\\\input\\\\2d_masks\\\\ID_0263_Z_0093.tif',\n",
       " 'D:\\\\yonsei_tutoring\\\\segmentation\\\\lung_cancer\\\\input\\\\2d_masks\\\\ID_0264_Z_0080.tif',\n",
       " 'D:\\\\yonsei_tutoring\\\\segmentation\\\\lung_cancer\\\\input\\\\2d_masks\\\\ID_0265_Z_0063.tif',\n",
       " 'D:\\\\yonsei_tutoring\\\\segmentation\\\\lung_cancer\\\\input\\\\2d_masks\\\\ID_0266_Z_0202.tif']"
      ]
     },
     "execution_count": 7,
     "metadata": {},
     "output_type": "execute_result"
    }
   ],
   "source": [
    "mask_path"
   ]
  },
  {
   "cell_type": "markdown",
   "metadata": {},
   "source": [
    "모아놓은 파일들을 다음 함수를 이용해 불러옵니다."
   ]
  },
  {
   "cell_type": "code",
   "execution_count": 8,
   "metadata": {},
   "outputs": [],
   "source": [
    "def load_and_resize_png1(path, img_height, img_width):\n",
    "    img = cv2.imread(path, cv2.IMREAD_UNCHANGED)\n",
    "    img = cv2.resize(img, dsize=(img_height, img_width), interpolation=cv2.INTER_AREA)\n",
    "    return img\n",
    "\n",
    "def load_and_resize_png2(path, img_height, img_width):\n",
    "    img = cv2.imread(path, cv2.IMREAD_UNCHANGED).astype(np.float32) / 255.\n",
    "    img = cv2.resize(img, dsize=(img_height, img_width), interpolation=cv2.INTER_NEAREST)\n",
    "    return img\n",
    "\n",
    "def load_and_resize_nii(path, img_height, img_width):\n",
    "    img = nb.load(path).get_data()\n",
    "    img = np.transpose(np.squeeze(img), (1, 0))\n",
    "    img = cv2.resize(img, dsize=(img_height, img_width), interpolation=cv2.INTER_AREA).astype(np.uint8)\n",
    "    return img"
   ]
  },
  {
   "cell_type": "markdown",
   "metadata": {},
   "source": [
    "불러온 이미지의 형태는 다음과 같이 (267, 96, 96) 입니다.  \n",
    "***267*** 장의 세로 ***96***, 가로 ***96*** 의 이미지를 불러왔다는 의미입니다."
   ]
  },
  {
   "cell_type": "code",
   "execution_count": 55,
   "metadata": {},
   "outputs": [
    {
     "name": "stdout",
     "output_type": "stream",
     "text": [
      "(267, 96, 96)\n",
      "(267, 96, 96)\n"
     ]
    }
   ],
   "source": [
    "imgs = np.stack([load_and_resize_png1(i_path, IMG_HEIGHT, IMG_WIDTH) for i_path in img_path])\n",
    "print(imgs.shape)\n",
    "masks = np.stack([load_and_resize_png2(m_path, IMG_HEIGHT, IMG_WIDTH) for m_path in mask_path])\n",
    "print(masks.shape)"
   ]
  },
  {
   "cell_type": "markdown",
   "metadata": {},
   "source": [
    "이미지를 직접 확인해볼까요?  \n",
    "\n",
    "**왼쪽 이미지**는 우리가 AI 모델에 넣을 **인풋 이미지**고,  \n",
    "**오른쪽 이미지**는 AI 모델을 학습시킬 때 필요한 정답, 즉 **레이블 이미지**입니다.\n",
    "\n",
    "레이블 이미지와 같이 우리는 폐 영역을 분리해내는 AI 모델을 만들어 보겠습니다."
   ]
  },
  {
   "cell_type": "code",
   "execution_count": 10,
   "metadata": {},
   "outputs": [
    {
     "data": {
      "image/png": "[encoded data removed]",
      "text/plain": [
       "<Figure size 720x1440 with 10 Axes>"
      ]
     },
     "metadata": {
      "needs_background": "light"
     },
     "output_type": "display_data"
    }
   ],
   "source": [
    "fig, ax = plt.subplots(5, 2, figsize=(10, 20))\n",
    "for i in range(5):\n",
    "    ax[i,0].imshow(imgs[i], cmap='gray')\n",
    "    ax[i,1].imshow(masks[i], cmap='gray')\n",
    "plt.show()"
   ]
  },
  {
   "cell_type": "markdown",
   "metadata": {},
   "source": [
    "마스크 데이터도 살펴볼까요?"
   ]
  },
  {
   "cell_type": "code",
   "execution_count": 59,
   "metadata": {},
   "outputs": [
    {
     "data": {
      "text/plain": [
       "array([[0., 0., 0., 0., 0., 0., 0., 0., 0., 0., 0., 0., 0., 0., 1., 1.,\n",
       "        1., 1., 1., 1.],\n",
       "       [0., 0., 0., 0., 0., 0., 0., 0., 0., 0., 0., 0., 0., 0., 1., 1.,\n",
       "        1., 1., 1., 1.],\n",
       "       [0., 0., 0., 0., 0., 0., 0., 0., 0., 0., 0., 0., 0., 0., 1., 1.,\n",
       "        1., 1., 1., 1.],\n",
       "       [0., 0., 0., 0., 0., 0., 0., 0., 0., 0., 0., 0., 0., 1., 1., 1.,\n",
       "        1., 1., 1., 1.],\n",
       "       [0., 0., 0., 0., 0., 0., 0., 0., 0., 0., 0., 0., 0., 1., 1., 1.,\n",
       "        1., 1., 1., 1.],\n",
       "       [0., 0., 0., 0., 0., 0., 0., 0., 0., 0., 0., 0., 0., 1., 1., 1.,\n",
       "        1., 1., 1., 1.],\n",
       "       [0., 0., 0., 0., 0., 0., 0., 0., 0., 0., 0., 0., 0., 1., 1., 1.,\n",
       "        1., 1., 1., 1.],\n",
       "       [0., 0., 0., 0., 0., 0., 0., 0., 0., 0., 0., 0., 0., 1., 1., 1.,\n",
       "        1., 1., 1., 1.],\n",
       "       [0., 0., 0., 0., 0., 0., 0., 0., 0., 0., 0., 0., 1., 1., 1., 1.,\n",
       "        1., 1., 1., 1.],\n",
       "       [0., 0., 0., 0., 0., 0., 0., 0., 0., 0., 0., 0., 1., 1., 1., 1.,\n",
       "        1., 1., 1., 1.],\n",
       "       [0., 0., 0., 0., 0., 0., 0., 0., 0., 0., 0., 0., 1., 1., 1., 1.,\n",
       "        1., 1., 1., 1.],\n",
       "       [0., 0., 0., 0., 0., 0., 0., 0., 0., 0., 0., 0., 1., 1., 1., 1.,\n",
       "        1., 1., 1., 1.],\n",
       "       [0., 0., 0., 0., 0., 0., 0., 0., 0., 0., 0., 0., 1., 1., 1., 1.,\n",
       "        1., 1., 1., 1.],\n",
       "       [0., 0., 0., 0., 0., 0., 0., 0., 0., 0., 0., 0., 1., 1., 1., 1.,\n",
       "        1., 1., 1., 1.],\n",
       "       [0., 0., 0., 0., 0., 0., 0., 0., 0., 0., 0., 0., 1., 1., 1., 1.,\n",
       "        1., 1., 1., 1.],\n",
       "       [0., 0., 0., 0., 0., 0., 0., 0., 0., 0., 0., 0., 1., 1., 1., 1.,\n",
       "        1., 1., 1., 1.],\n",
       "       [0., 0., 0., 0., 0., 0., 0., 0., 0., 0., 0., 0., 1., 1., 1., 1.,\n",
       "        1., 1., 1., 1.],\n",
       "       [0., 0., 0., 0., 0., 0., 0., 0., 0., 0., 0., 0., 0., 1., 1., 1.,\n",
       "        1., 1., 1., 1.],\n",
       "       [0., 0., 0., 0., 0., 0., 0., 0., 0., 0., 0., 0., 0., 1., 1., 1.,\n",
       "        1., 1., 1., 1.],\n",
       "       [0., 0., 0., 0., 0., 0., 0., 0., 0., 0., 0., 0., 0., 1., 1., 1.,\n",
       "        1., 1., 1., 1.]], dtype=float32)"
      ]
     },
     "execution_count": 59,
     "metadata": {},
     "output_type": "execute_result"
    }
   ],
   "source": []
  },
  {
   "cell_type": "markdown",
   "metadata": {},
   "source": [
    "# **데이터 전처리**\n",
    "\n",
    "AI 모델을 만들기 이전에 모델 학습에 도움을 줄 데이터 전처리를 살펴보겠습니다.  \n",
    "이 과정을 통해 **AI 모델이 받아들이기 쉬운 형태로 데이터를 가공** 하여 학습 성능을 올릴 수 있습니다.  \n",
    "\n",
    "\n",
    "먼저, 위에서 본 이미지 데이터를 컴퓨터가 실제로 인식하는 숫자 데이터로 확인해보겠습니다. "
   ]
  },
  {
   "cell_type": "code",
   "execution_count": 11,
   "metadata": {},
   "outputs": [
    {
     "data": {
      "text/plain": [
       "array([[64716, 64733, 64725, ..., 64727, 64734, 64722],\n",
       "       [64734, 64712, 64734, ..., 64726, 64714, 64729],\n",
       "       [64725, 64724, 64716, ..., 64722, 64732, 64718],\n",
       "       ...,\n",
       "       [64714, 64721, 64726, ..., 64725, 64718, 64721],\n",
       "       [64711, 64707, 64734, ..., 64741, 64721, 64722],\n",
       "       [64715, 64730, 64726, ..., 64723, 64721, 64737]], dtype=uint16)"
      ]
     },
     "execution_count": 11,
     "metadata": {},
     "output_type": "execute_result"
    }
   ],
   "source": [
    "imgs[0]"
   ]
  },
  {
   "cell_type": "markdown",
   "metadata": {},
   "source": [
    "범위가 넓고 단위가 큰 숫자들을 정규화하여 학습 성능을 높여봅시다.  \n",
    "가장 기본적인 정규화 방법으로 고등학교 때 배운 **Z-score** 를 사용할 수 있습니다."
   ]
  },
  {
   "cell_type": "code",
   "execution_count": 12,
   "metadata": {},
   "outputs": [],
   "source": [
    "n_imgs = len(imgs)\n",
    "imgs = np.reshape(imgs, (n_imgs, -1))\n",
    "imgs_t = np.transpose(imgs, (1,0))\n",
    "imgs_t_norm = (imgs_t - np.mean(imgs_t, axis=0)) / np.std(imgs_t, axis=0)\n",
    "imgs = np.transpose(imgs_t_norm, (1,0))\n",
    "imgs = np.reshape(imgs, (n_imgs, IMG_HEIGHT, IMG_WIDTH))"
   ]
  },
  {
   "cell_type": "markdown",
   "metadata": {},
   "source": [
    "다시 값을 확인해 봅시다."
   ]
  },
  {
   "cell_type": "code",
   "execution_count": 13,
   "metadata": {},
   "outputs": [
    {
     "data": {
      "text/plain": [
       "array([[0.59945889, 0.60033547, 0.59992296, ..., 0.60002609, 0.60038703,\n",
       "        0.59976827],\n",
       "       [0.60038703, 0.59925264, 0.60038703, ..., 0.59997452, 0.59935577,\n",
       "        0.60012921],\n",
       "       [0.59992296, 0.5998714 , 0.59945889, ..., 0.59976827, 0.6002839 ,\n",
       "        0.59956202],\n",
       "       ...,\n",
       "       [0.59935577, 0.59971671, 0.59997452, ..., 0.59992296, 0.59956202,\n",
       "        0.59971671],\n",
       "       [0.59920108, 0.59899482, 0.60038703, ..., 0.60074797, 0.59971671,\n",
       "        0.59976827],\n",
       "       [0.59940733, 0.60018078, 0.59997452, ..., 0.59981983, 0.59971671,\n",
       "        0.60054172]])"
      ]
     },
     "execution_count": 13,
     "metadata": {},
     "output_type": "execute_result"
    }
   ],
   "source": [
    "imgs[0]"
   ]
  },
  {
   "cell_type": "markdown",
   "metadata": {},
   "source": [
    "그 후 AI 모델에 넣을 수 있는 형태로 이미지 형태를 변형해 보겠습니다. "
   ]
  },
  {
   "cell_type": "code",
   "execution_count": 14,
   "metadata": {},
   "outputs": [
    {
     "name": "stdout",
     "output_type": "stream",
     "text": [
      "변경 전 형태:  (267, 96, 96)\n",
      "변경 후 형태:  (267, 96, 96, 1)\n"
     ]
    }
   ],
   "source": [
    "print('변경 전 형태: ', np.shape(imgs))\n",
    "imgs = imgs[:,:,:,np.newaxis]\n",
    "masks = masks[:,:,:,np.newaxis]\n",
    "print('변경 후 형태: ', np.shape(imgs))"
   ]
  },
  {
   "cell_type": "markdown",
   "metadata": {},
   "source": [
    "마지막으로, 데이터를 학습용 데이터와 검증용 데이터로 나누어 봅시다.  \n",
    "**학습용 데이터**는 실제로 **모델 학습에 사용** 되는 데이터이고,  \n",
    "**검증용 데이터**는 학습에 사용하지 않고 학습이 잘 이뤄지는 지 **성능 확인하는 용도**로 사용합니다."
   ]
  },
  {
   "cell_type": "code",
   "execution_count": 15,
   "metadata": {},
   "outputs": [
    {
     "name": "stdout",
     "output_type": "stream",
     "text": [
      "훈련 데이터 개수:  213\n",
      "검증 데이터 개수:  54\n"
     ]
    }
   ],
   "source": [
    "imgs_train, imgs_val, masks_train, masks_val = train_test_split(imgs, masks, test_size=VAL_RATIO)\n",
    "print('훈련 데이터 개수: ', len(imgs_train))\n",
    "print('검증 데이터 개수: ', len(imgs_val))"
   ]
  },
  {
   "cell_type": "markdown",
   "metadata": {},
   "source": [
    "# **AI 모델을 구성하는 레이어 만들기**\n",
    "\n",
    "AI 모델은 여러 개의 레이어를 쌓아 올려 만듭니다.  \n",
    "가장 대표적인 레이어 구조인 **CONV-BN-ACT-POOL** 구조를 만들어 보겠습니다.\n",
    "\n",
    "먼저 데이터가 들어가는 첫 번째 레이어를 만들어 봅시다."
   ]
  },
  {
   "cell_type": "code",
   "execution_count": 16,
   "metadata": {},
   "outputs": [],
   "source": [
    "layer1 = Input(shape=imgs_train.shape[1:])"
   ]
  },
  {
   "cell_type": "markdown",
   "metadata": {},
   "source": [
    "그 다음으로 데이터의 특징을 추출할 Convolution 레이어를 연결하겠습니다."
   ]
  },
  {
   "cell_type": "code",
   "execution_count": 17,
   "metadata": {},
   "outputs": [],
   "source": [
    "layer2 = Conv2D(filters=8, kernel_size=(3, 3), activation=None, padding='same')(layer1)"
   ]
  },
  {
   "cell_type": "markdown",
   "metadata": {},
   "source": [
    "다음으로 레이어 중간에서 정규화를 도와줄 Batch Normalization 레이어를 추가하겠습니다."
   ]
  },
  {
   "cell_type": "code",
   "execution_count": 18,
   "metadata": {},
   "outputs": [],
   "source": [
    "layer3 = BatchNormalization()(layer2)"
   ]
  },
  {
   "cell_type": "markdown",
   "metadata": {},
   "source": [
    "Batch Normalization 이후 신호를 변환하여 다음 뉴런으로 전달하는 Activation function 레이어를 추가합니다."
   ]
  },
  {
   "cell_type": "code",
   "execution_count": 19,
   "metadata": {},
   "outputs": [],
   "source": [
    "layer4 = Activation('relu')(layer3)"
   ]
  },
  {
   "cell_type": "markdown",
   "metadata": {},
   "source": [
    "이미지 사이즈를 줄여주는 Pooling 레이어를 연결합니다."
   ]
  },
  {
   "cell_type": "code",
   "execution_count": 20,
   "metadata": {},
   "outputs": [],
   "source": [
    "layer5 = MaxPool2D(strides=(2, 2))(layer4)"
   ]
  },
  {
   "cell_type": "markdown",
   "metadata": {},
   "source": [
    "다시 Conv-BN-ACT 레이어를 연결합니다."
   ]
  },
  {
   "cell_type": "code",
   "execution_count": 21,
   "metadata": {},
   "outputs": [],
   "source": [
    "layer6 = Conv2D(filters=16, kernel_size=(3, 3), activation=None, padding='same')(layer5)"
   ]
  },
  {
   "cell_type": "code",
   "execution_count": 22,
   "metadata": {},
   "outputs": [],
   "source": [
    "layer7 = BatchNormalization()(layer6)"
   ]
  },
  {
   "cell_type": "code",
   "execution_count": 23,
   "metadata": {},
   "outputs": [],
   "source": [
    "layer8 = Activation('relu')(layer7)"
   ]
  },
  {
   "cell_type": "markdown",
   "metadata": {},
   "source": [
    "이번에는 이미지 사이즈를 키워주는 Upsampling 레이어를 연결합니다."
   ]
  },
  {
   "cell_type": "code",
   "execution_count": 25,
   "metadata": {},
   "outputs": [],
   "source": [
    "layer9 = UpSampling2D(size=(2, 2))(layer8)"
   ]
  },
  {
   "cell_type": "markdown",
   "metadata": {},
   "source": [
    "레이어4와 레이어9를 함께 합쳐봅시다."
   ]
  },
  {
   "cell_type": "code",
   "execution_count": 26,
   "metadata": {},
   "outputs": [],
   "source": [
    "layer10 = concatenate([layer9, layer4], axis=-1)"
   ]
  },
  {
   "cell_type": "markdown",
   "metadata": {},
   "source": [
    "마지막으로 아웃풋 레이어를 연결합니다."
   ]
  },
  {
   "cell_type": "code",
   "execution_count": 27,
   "metadata": {},
   "outputs": [],
   "source": [
    "layer11 = Conv2D(filters=1, kernel_size=(1, 1), activation='sigmoid')(layer10)"
   ]
  },
  {
   "cell_type": "markdown",
   "metadata": {},
   "source": [
    "지금까지 만든 레이어를 Model 함수에 넣어 연결하면 모델이 완성됩니다."
   ]
  },
  {
   "cell_type": "code",
   "execution_count": 28,
   "metadata": {},
   "outputs": [
    {
     "name": "stdout",
     "output_type": "stream",
     "text": [
      "__________________________________________________________________________________________________\n",
      "Layer (type)                    Output Shape         Param #     Connected to                     \n",
      "==================================================================================================\n",
      "input_1 (InputLayer)            (None, 96, 96, 1)    0                                            \n",
      "__________________________________________________________________________________________________\n",
      "conv2d_1 (Conv2D)               (None, 96, 96, 8)    80          input_1[0][0]                    \n",
      "__________________________________________________________________________________________________\n",
      "batch_normalization_1 (BatchNor (None, 96, 96, 8)    32          conv2d_1[0][0]                   \n",
      "__________________________________________________________________________________________________\n",
      "activation_1 (Activation)       (None, 96, 96, 8)    0           batch_normalization_1[0][0]      \n",
      "__________________________________________________________________________________________________\n",
      "max_pooling2d_1 (MaxPooling2D)  (None, 48, 48, 8)    0           activation_1[0][0]               \n",
      "__________________________________________________________________________________________________\n",
      "conv2d_2 (Conv2D)               (None, 48, 48, 16)   1168        max_pooling2d_1[0][0]            \n",
      "__________________________________________________________________________________________________\n",
      "batch_normalization_2 (BatchNor (None, 48, 48, 16)   64          conv2d_2[0][0]                   \n",
      "__________________________________________________________________________________________________\n",
      "activation_2 (Activation)       (None, 48, 48, 16)   0           batch_normalization_2[0][0]      \n",
      "__________________________________________________________________________________________________\n",
      "up_sampling2d_1 (UpSampling2D)  (None, 96, 96, 16)   0           activation_2[0][0]               \n",
      "__________________________________________________________________________________________________\n",
      "concatenate_1 (Concatenate)     (None, 96, 96, 24)   0           up_sampling2d_1[0][0]            \n",
      "                                                                 activation_1[0][0]               \n",
      "__________________________________________________________________________________________________\n",
      "conv2d_3 (Conv2D)               (None, 96, 96, 1)    25          concatenate_1[0][0]              \n",
      "==================================================================================================\n",
      "Total params: 1,369\n",
      "Trainable params: 1,321\n",
      "Non-trainable params: 48\n",
      "__________________________________________________________________________________________________\n"
     ]
    }
   ],
   "source": [
    "sample_model = Model(layer1, layer11)\n",
    "sample_model.summary()"
   ]
  },
  {
   "cell_type": "markdown",
   "metadata": {},
   "source": [
    "# 폐 영역 분리 AI 모델 만들기1"
   ]
  },
  {
   "cell_type": "code",
   "execution_count": 38,
   "metadata": {
    "scrolled": false
   },
   "outputs": [
    {
     "name": "stdout",
     "output_type": "stream",
     "text": [
      "__________________________________________________________________________________________________\n",
      "Layer (type)                    Output Shape         Param #     Connected to                     \n",
      "==================================================================================================\n",
      "input_5 (InputLayer)            (None, 96, 96, 1)    0                                            \n",
      "__________________________________________________________________________________________________\n",
      "conv2d_31 (Conv2D)              (None, 96, 96, 32)   320         input_5[0][0]                    \n",
      "__________________________________________________________________________________________________\n",
      "batch_normalization_27 (BatchNo (None, 96, 96, 32)   128         conv2d_31[0][0]                  \n",
      "__________________________________________________________________________________________________\n",
      "activation_27 (Activation)      (None, 96, 96, 32)   0           batch_normalization_27[0][0]     \n",
      "__________________________________________________________________________________________________\n",
      "max_pooling2d_11 (MaxPooling2D) (None, 48, 48, 32)   0           activation_27[0][0]              \n",
      "__________________________________________________________________________________________________\n",
      "conv2d_32 (Conv2D)              (None, 48, 48, 64)   18496       max_pooling2d_11[0][0]           \n",
      "__________________________________________________________________________________________________\n",
      "batch_normalization_28 (BatchNo (None, 48, 48, 64)   256         conv2d_32[0][0]                  \n",
      "__________________________________________________________________________________________________\n",
      "activation_28 (Activation)      (None, 48, 48, 64)   0           batch_normalization_28[0][0]     \n",
      "__________________________________________________________________________________________________\n",
      "max_pooling2d_12 (MaxPooling2D) (None, 24, 24, 64)   0           activation_28[0][0]              \n",
      "__________________________________________________________________________________________________\n",
      "conv2d_33 (Conv2D)              (None, 24, 24, 128)  73856       max_pooling2d_12[0][0]           \n",
      "__________________________________________________________________________________________________\n",
      "batch_normalization_29 (BatchNo (None, 24, 24, 128)  512         conv2d_33[0][0]                  \n",
      "__________________________________________________________________________________________________\n",
      "activation_29 (Activation)      (None, 24, 24, 128)  0           batch_normalization_29[0][0]     \n",
      "__________________________________________________________________________________________________\n",
      "max_pooling2d_13 (MaxPooling2D) (None, 12, 12, 128)  0           activation_29[0][0]              \n",
      "__________________________________________________________________________________________________\n",
      "conv2d_34 (Conv2D)              (None, 12, 12, 256)  295168      max_pooling2d_13[0][0]           \n",
      "__________________________________________________________________________________________________\n",
      "batch_normalization_30 (BatchNo (None, 12, 12, 256)  1024        conv2d_34[0][0]                  \n",
      "__________________________________________________________________________________________________\n",
      "activation_30 (Activation)      (None, 12, 12, 256)  0           batch_normalization_30[0][0]     \n",
      "__________________________________________________________________________________________________\n",
      "up_sampling2d_11 (UpSampling2D) (None, 24, 24, 256)  0           activation_30[0][0]              \n",
      "__________________________________________________________________________________________________\n",
      "concatenate_11 (Concatenate)    (None, 24, 24, 384)  0           up_sampling2d_11[0][0]           \n",
      "                                                                 activation_29[0][0]              \n",
      "__________________________________________________________________________________________________\n",
      "conv2d_35 (Conv2D)              (None, 24, 24, 256)  884992      concatenate_11[0][0]             \n",
      "__________________________________________________________________________________________________\n",
      "batch_normalization_31 (BatchNo (None, 24, 24, 256)  1024        conv2d_35[0][0]                  \n",
      "__________________________________________________________________________________________________\n",
      "activation_31 (Activation)      (None, 24, 24, 256)  0           batch_normalization_31[0][0]     \n",
      "__________________________________________________________________________________________________\n",
      "up_sampling2d_12 (UpSampling2D) (None, 48, 48, 256)  0           activation_31[0][0]              \n",
      "__________________________________________________________________________________________________\n",
      "concatenate_12 (Concatenate)    (None, 48, 48, 320)  0           up_sampling2d_12[0][0]           \n",
      "                                                                 activation_28[0][0]              \n",
      "__________________________________________________________________________________________________\n",
      "conv2d_36 (Conv2D)              (None, 48, 48, 128)  368768      concatenate_12[0][0]             \n",
      "__________________________________________________________________________________________________\n",
      "batch_normalization_32 (BatchNo (None, 48, 48, 128)  512         conv2d_36[0][0]                  \n",
      "__________________________________________________________________________________________________\n",
      "activation_32 (Activation)      (None, 48, 48, 128)  0           batch_normalization_32[0][0]     \n",
      "__________________________________________________________________________________________________\n",
      "up_sampling2d_13 (UpSampling2D) (None, 96, 96, 128)  0           activation_32[0][0]              \n",
      "__________________________________________________________________________________________________\n",
      "concatenate_13 (Concatenate)    (None, 96, 96, 160)  0           up_sampling2d_13[0][0]           \n",
      "                                                                 activation_27[0][0]              \n",
      "__________________________________________________________________________________________________\n",
      "conv2d_37 (Conv2D)              (None, 96, 96, 64)   92224       concatenate_13[0][0]             \n",
      "__________________________________________________________________________________________________\n",
      "batch_normalization_33 (BatchNo (None, 96, 96, 64)   256         conv2d_37[0][0]                  \n",
      "__________________________________________________________________________________________________\n",
      "activation_33 (Activation)      (None, 96, 96, 64)   0           batch_normalization_33[0][0]     \n",
      "__________________________________________________________________________________________________\n",
      "conv2d_38 (Conv2D)              (None, 94, 94, 32)   18464       activation_33[0][0]              \n",
      "__________________________________________________________________________________________________\n",
      "batch_normalization_34 (BatchNo (None, 94, 94, 32)   128         conv2d_38[0][0]                  \n",
      "__________________________________________________________________________________________________\n",
      "activation_34 (Activation)      (None, 94, 94, 32)   0           batch_normalization_34[0][0]     \n",
      "__________________________________________________________________________________________________\n",
      "conv2d_39 (Conv2D)              (None, 94, 94, 1)    33          activation_34[0][0]              \n",
      "==================================================================================================\n",
      "Total params: 1,756,161\n",
      "Trainable params: 1,754,241\n",
      "Non-trainable params: 1,920\n",
      "__________________________________________________________________________________________________\n"
     ]
    }
   ],
   "source": [
    "input_layer = Input(shape=imgs_train.shape[1:])\n",
    "\n",
    "filters = INIT_FILTERS\n",
    "c1 = Conv2D(filters=filters, kernel_size=(3, 3), activation=None, padding='same')(input_layer)\n",
    "c1 = BatchNormalization()(c1)\n",
    "c1 = Activation(ACTIVATION_FN)(c1)\n",
    "l = MaxPool2D(strides=(2, 2))(c1)\n",
    "\n",
    "filters *= 2\n",
    "c2 = Conv2D(filters=filters, kernel_size=(3, 3), activation=None, padding='same')(l)\n",
    "c2 = BatchNormalization()(c2)\n",
    "c2 = Activation(ACTIVATION_FN)(c2)\n",
    "l = MaxPool2D(strides=(2, 2))(c2)\n",
    "\n",
    "filters *= 2\n",
    "c3 = Conv2D(filters=filters, kernel_size=(3, 3), activation=None, padding='same')(l)\n",
    "c3 = BatchNormalization()(c3)\n",
    "c3 = Activation(ACTIVATION_FN)(c3)\n",
    "l = MaxPool2D(strides=(2, 2))(c3)\n",
    "\n",
    "filters *= 2\n",
    "c4 = Conv2D(filters=filters, kernel_size=(3, 3), activation=None, padding='same')(l)\n",
    "c4 = BatchNormalization()(c4)\n",
    "c4 = Activation(ACTIVATION_FN)(c4)\n",
    "l = concatenate([UpSampling2D(size=(2, 2))(c4), c3], axis=-1)\n",
    "\n",
    "l = Conv2D(filters=filters, kernel_size=(3, 3), activation=None, padding='same')(l)\n",
    "l = BatchNormalization()(l)\n",
    "l = Activation(ACTIVATION_FN)(l)\n",
    "l = concatenate([UpSampling2D(size=(2, 2))(l), c2], axis=-1)\n",
    "\n",
    "filters //= 2\n",
    "l = Conv2D(filters=filters, kernel_size=(3, 3), activation=None, padding='same')(l)\n",
    "l = BatchNormalization()(l)\n",
    "l = Activation(ACTIVATION_FN)(l)\n",
    "l = concatenate([UpSampling2D(size=(2, 2))(l), c1], axis=-1)\n",
    "\n",
    "filters //= 2\n",
    "l = Conv2D(filters=filters, kernel_size=(3, 3), activation=None, padding='same')(l)\n",
    "l = BatchNormalization()(l)\n",
    "l = Activation(ACTIVATION_FN)(l)\n",
    "\n",
    "filters //= 2\n",
    "l = Conv2D(filters=filters, kernel_size=(3, 3), activation=None)(l)\n",
    "l = BatchNormalization()(l)\n",
    "l = Activation(ACTIVATION_FN)(l)\n",
    "\n",
    "output_layer = Conv2D(filters=1, kernel_size=(1, 1), activation='sigmoid')(l)\n",
    "    \n",
    "model = Model(input_layer, output_layer)\n",
    "model.summary()"
   ]
  },
  {
   "cell_type": "markdown",
   "metadata": {},
   "source": [
    "# 폐 영역 분리 AI 모델 만들기2"
   ]
  },
  {
   "cell_type": "markdown",
   "metadata": {},
   "source": [
    "Convolutional layer 함수 만들기"
   ]
  },
  {
   "cell_type": "code",
   "execution_count": 36,
   "metadata": {},
   "outputs": [],
   "source": [
    "def conv_layer(layer, filters, activation, kernel_size=(3, 3)):\n",
    "\n",
    "    ###\n",
    "    \n",
    "    return layer"
   ]
  },
  {
   "cell_type": "code",
   "execution_count": 39,
   "metadata": {},
   "outputs": [
    {
     "name": "stdout",
     "output_type": "stream",
     "text": [
      "__________________________________________________________________________________________________\n",
      "Layer (type)                    Output Shape         Param #     Connected to                     \n",
      "==================================================================================================\n",
      "input_6 (InputLayer)            (None, 96, 96, 1)    0                                            \n",
      "__________________________________________________________________________________________________\n",
      "conv2d_40 (Conv2D)              (None, 96, 96, 32)   320         input_6[0][0]                    \n",
      "__________________________________________________________________________________________________\n",
      "batch_normalization_35 (BatchNo (None, 96, 96, 32)   128         conv2d_40[0][0]                  \n",
      "__________________________________________________________________________________________________\n",
      "activation_35 (Activation)      (None, 96, 96, 32)   0           batch_normalization_35[0][0]     \n",
      "__________________________________________________________________________________________________\n",
      "max_pooling2d_14 (MaxPooling2D) (None, 48, 48, 32)   0           activation_35[0][0]              \n",
      "__________________________________________________________________________________________________\n",
      "conv2d_41 (Conv2D)              (None, 48, 48, 64)   18496       max_pooling2d_14[0][0]           \n",
      "__________________________________________________________________________________________________\n",
      "batch_normalization_36 (BatchNo (None, 48, 48, 64)   256         conv2d_41[0][0]                  \n",
      "__________________________________________________________________________________________________\n",
      "activation_36 (Activation)      (None, 48, 48, 64)   0           batch_normalization_36[0][0]     \n",
      "__________________________________________________________________________________________________\n",
      "max_pooling2d_15 (MaxPooling2D) (None, 24, 24, 64)   0           activation_36[0][0]              \n",
      "__________________________________________________________________________________________________\n",
      "conv2d_42 (Conv2D)              (None, 24, 24, 128)  73856       max_pooling2d_15[0][0]           \n",
      "__________________________________________________________________________________________________\n",
      "batch_normalization_37 (BatchNo (None, 24, 24, 128)  512         conv2d_42[0][0]                  \n",
      "__________________________________________________________________________________________________\n",
      "activation_37 (Activation)      (None, 24, 24, 128)  0           batch_normalization_37[0][0]     \n",
      "__________________________________________________________________________________________________\n",
      "max_pooling2d_16 (MaxPooling2D) (None, 12, 12, 128)  0           activation_37[0][0]              \n",
      "__________________________________________________________________________________________________\n",
      "conv2d_43 (Conv2D)              (None, 12, 12, 256)  295168      max_pooling2d_16[0][0]           \n",
      "__________________________________________________________________________________________________\n",
      "batch_normalization_38 (BatchNo (None, 12, 12, 256)  1024        conv2d_43[0][0]                  \n",
      "__________________________________________________________________________________________________\n",
      "activation_38 (Activation)      (None, 12, 12, 256)  0           batch_normalization_38[0][0]     \n",
      "__________________________________________________________________________________________________\n",
      "up_sampling2d_14 (UpSampling2D) (None, 24, 24, 256)  0           activation_38[0][0]              \n",
      "__________________________________________________________________________________________________\n",
      "concatenate_14 (Concatenate)    (None, 24, 24, 384)  0           up_sampling2d_14[0][0]           \n",
      "                                                                 activation_37[0][0]              \n",
      "__________________________________________________________________________________________________\n",
      "conv2d_44 (Conv2D)              (None, 24, 24, 256)  884992      concatenate_14[0][0]             \n",
      "__________________________________________________________________________________________________\n",
      "batch_normalization_39 (BatchNo (None, 24, 24, 256)  1024        conv2d_44[0][0]                  \n",
      "__________________________________________________________________________________________________\n",
      "activation_39 (Activation)      (None, 24, 24, 256)  0           batch_normalization_39[0][0]     \n",
      "__________________________________________________________________________________________________\n",
      "up_sampling2d_15 (UpSampling2D) (None, 48, 48, 256)  0           activation_39[0][0]              \n",
      "__________________________________________________________________________________________________\n",
      "concatenate_15 (Concatenate)    (None, 48, 48, 320)  0           up_sampling2d_15[0][0]           \n",
      "                                                                 activation_36[0][0]              \n",
      "__________________________________________________________________________________________________\n",
      "conv2d_45 (Conv2D)              (None, 48, 48, 128)  368768      concatenate_15[0][0]             \n",
      "__________________________________________________________________________________________________\n",
      "batch_normalization_40 (BatchNo (None, 48, 48, 128)  512         conv2d_45[0][0]                  \n",
      "__________________________________________________________________________________________________\n",
      "activation_40 (Activation)      (None, 48, 48, 128)  0           batch_normalization_40[0][0]     \n",
      "__________________________________________________________________________________________________\n",
      "up_sampling2d_16 (UpSampling2D) (None, 96, 96, 128)  0           activation_40[0][0]              \n",
      "__________________________________________________________________________________________________\n",
      "concatenate_16 (Concatenate)    (None, 96, 96, 160)  0           up_sampling2d_16[0][0]           \n",
      "                                                                 activation_35[0][0]              \n",
      "__________________________________________________________________________________________________\n",
      "conv2d_46 (Conv2D)              (None, 96, 96, 64)   92224       concatenate_16[0][0]             \n",
      "__________________________________________________________________________________________________\n",
      "batch_normalization_41 (BatchNo (None, 96, 96, 64)   256         conv2d_46[0][0]                  \n",
      "__________________________________________________________________________________________________\n",
      "activation_41 (Activation)      (None, 96, 96, 64)   0           batch_normalization_41[0][0]     \n",
      "__________________________________________________________________________________________________\n",
      "conv2d_47 (Conv2D)              (None, 96, 96, 32)   18464       activation_41[0][0]              \n",
      "__________________________________________________________________________________________________\n",
      "batch_normalization_42 (BatchNo (None, 96, 96, 32)   128         conv2d_47[0][0]                  \n",
      "__________________________________________________________________________________________________\n",
      "activation_42 (Activation)      (None, 96, 96, 32)   0           batch_normalization_42[0][0]     \n",
      "__________________________________________________________________________________________________\n",
      "conv2d_48 (Conv2D)              (None, 96, 96, 1)    33          activation_42[0][0]              \n",
      "==================================================================================================\n",
      "Total params: 1,756,161\n",
      "Trainable params: 1,754,241\n",
      "Non-trainable params: 1,920\n",
      "__________________________________________________________________________________________________\n"
     ]
    }
   ],
   "source": [
    "input_layer = Input(shape=imgs_train.shape[1:])\n",
    "\n",
    "filters = INIT_FILTERS\n",
    "#\n",
    "\n",
    "filters *= 2\n",
    "#\n",
    "\n",
    "filters *= 2\n",
    "#\n",
    "\n",
    "filters *= 2\n",
    "#\n",
    "\n",
    "#\n",
    "\n",
    "filters //= 2\n",
    "#\n",
    "\n",
    "filters //= 2\n",
    "#\n",
    "\n",
    "filters //= 2\n",
    "#\n",
    "\n",
    "output_layer = Conv2D(filters=1, kernel_size=(1, 1), activation='sigmoid')(l)\n",
    "    \n",
    "model = Model(input_layer, output_layer)\n",
    "model.summary()"
   ]
  },
  {
   "cell_type": "markdown",
   "metadata": {},
   "source": [
    "# 미리 훈련시킨 AI 모델 파일 불러오기\n",
    "\n",
    "AI 모델을 처음부터 훈련시켜도 되지만,  \n",
    "미리 훈련시킨 모델 파일이 있는 경우 불러와서 훈련시킬 수도 있습니다. "
   ]
  },
  {
   "cell_type": "code",
   "execution_count": 23,
   "metadata": {},
   "outputs": [],
   "source": [
    "# model.load_weights('lung.h5')"
   ]
  },
  {
   "cell_type": "markdown",
   "metadata": {},
   "source": [
    "# AI 모델 옵션 설정하기\n",
    "\n",
    "AI 모델을 만든 후 여러가지 훈련 옵션을 설정할 수 있습니다.  \n",
    "학습률(Learning_rate) 과 손실함수(Loss function), 정확도 기준(Dice_score) 등을 설정해 봅시다.\n",
    "\n",
    "먼저 정확도 기준으로 Dice score 를 살펴봅시다.  "
   ]
  },
  {
   "cell_type": "code",
   "execution_count": 40,
   "metadata": {},
   "outputs": [],
   "source": [
    " def dice_score(y_true, y_pred):\n",
    "    y_true_f = K.flatten(y_true)\n",
    "    y_pred_f = K.flatten(y_pred)\n",
    "    intersection = K.sum(y_true_f * y_pred_f)\n",
    "    return (2. * intersection + K.epsilon()) / (K.sum(y_true_f) + K.sum(y_pred_f) + K.epsilon())"
   ]
  },
  {
   "cell_type": "markdown",
   "metadata": {},
   "source": [
    "옵션은 complie 을 통해 설정할 수 있습니다.  \n",
    "모델의 값을 학습시키는 **Optimizer** 는 **Adam** 을 사용하고,  \n",
    "정답 레이블과 예측값 사이의 차이를 계산하는 **손실 함수**는 **Cross entropy** 를 사용했습니다.   \n",
    "마지막으로 **정확도 판단 기준**으로는 위에서 만든 **Dice score** 를 사용합니다. "
   ]
  },
  {
   "cell_type": "code",
   "execution_count": 41,
   "metadata": {},
   "outputs": [],
   "source": [
    "model.compile(optimizer=Adam(LEARNING_RATE), loss='binary_crossentropy', metrics=[dice_score])"
   ]
  },
  {
   "cell_type": "markdown",
   "metadata": {},
   "source": [
    "추가적으로 AI 모델 훈련 파일을 lung.h5 라는 파일로 저장해 다음에 사용할 수 있도록 했고,  \n",
    "학습이 진행될 수록 학습률(Learning_rate)를 감소시켜 세밀한 조정이 가능하게 했습니다."
   ]
  },
  {
   "cell_type": "code",
   "execution_count": 42,
   "metadata": {},
   "outputs": [],
   "source": [
    "weight_saver = ModelCheckpoint('lung.h5', monitor='val_dice_score', save_best_only=True, save_weights_only=True)\n",
    "decayed_lr = LearningRateScheduler(lambda x: LEARNING_RATE * DECAY_RATE ** x)"
   ]
  },
  {
   "cell_type": "markdown",
   "metadata": {},
   "source": [
    "# AI 모델 훈련하기\n",
    "\n",
    "이렇게 준비한 AI 모델을 fit 함수를 이용해 훈련시킬 수 있습니다. "
   ]
  },
  {
   "cell_type": "code",
   "execution_count": 43,
   "metadata": {},
   "outputs": [
    {
     "name": "stdout",
     "output_type": "stream",
     "text": [
      "Train on 213 samples, validate on 54 samples\n",
      "Epoch 1/10\n",
      " - 118s - loss: 0.1895 - dice_score: 0.7760 - val_loss: 0.5106 - val_dice_score: 0.7009\n",
      "Epoch 2/10\n",
      " - 115s - loss: 0.0928 - dice_score: 0.8659 - val_loss: 0.1637 - val_dice_score: 0.8373\n",
      "Epoch 3/10\n",
      " - 114s - loss: 0.0800 - dice_score: 0.8852 - val_loss: 0.1041 - val_dice_score: 0.8771\n",
      "Epoch 4/10\n",
      " - 116s - loss: 0.0742 - dice_score: 0.8935 - val_loss: 0.1177 - val_dice_score: 0.8870\n",
      "Epoch 5/10\n",
      " - 119s - loss: 0.0696 - dice_score: 0.9022 - val_loss: 0.0813 - val_dice_score: 0.9107\n",
      "Epoch 6/10\n",
      " - 121s - loss: 0.0690 - dice_score: 0.9043 - val_loss: 0.0962 - val_dice_score: 0.8966\n",
      "Epoch 7/10\n",
      " - 110s - loss: 0.0644 - dice_score: 0.9095 - val_loss: 0.0840 - val_dice_score: 0.9017\n",
      "Epoch 8/10\n",
      " - 111s - loss: 0.0592 - dice_score: 0.9137 - val_loss: 0.0859 - val_dice_score: 0.9095\n",
      "Epoch 9/10\n",
      " - 120s - loss: 0.0603 - dice_score: 0.9162 - val_loss: 0.0795 - val_dice_score: 0.9109\n",
      "Epoch 10/10\n",
      " - 113s - loss: 0.0539 - dice_score: 0.9213 - val_loss: 0.0727 - val_dice_score: 0.9154\n"
     ]
    }
   ],
   "source": [
    "history = model.fit(imgs_train, masks_train,\n",
    "                    batch_size=BATCH_SIZE,\n",
    "                    epochs=EPOCHS,\n",
    "                    validation_data=(imgs_val, masks_val),\n",
    "                    shuffle=True,\n",
    "                    verbose=2,\n",
    "                    callbacks=[weight_saver, decayed_lr])"
   ]
  },
  {
   "cell_type": "markdown",
   "metadata": {},
   "source": [
    "# 훈련 결과 확인하기\n",
    "\n",
    "훈련 결과를 한 눈에 확인할 수 있는 그래프를 만들어 보겠습니다.\n",
    "\n",
    "먼저 그래프의 y축에 사용할 값들을 history 항목에서 추출해 봅시다."
   ]
  },
  {
   "cell_type": "code",
   "execution_count": 44,
   "metadata": {},
   "outputs": [],
   "source": [
    "dice_score = history.history['dice_score']\n",
    "val_dice_score = history.history['val_dice_score']\n",
    "loss = history.history['loss']\n",
    "val_loss = history.history['val_loss']"
   ]
  },
  {
   "cell_type": "markdown",
   "metadata": {},
   "source": [
    "다음으로 그래프의 x축 값으로 사용할 epoch 을 뽑아 보겠습니다."
   ]
  },
  {
   "cell_type": "code",
   "execution_count": 45,
   "metadata": {},
   "outputs": [],
   "source": [
    "epochs = range(len(dice_score))"
   ]
  },
  {
   "cell_type": "markdown",
   "metadata": {},
   "source": [
    "각 값들을 확인해볼까요?"
   ]
  },
  {
   "cell_type": "code",
   "execution_count": 46,
   "metadata": {},
   "outputs": [
    {
     "data": {
      "text/plain": [
       "[0.7760073003914435,\n",
       " 0.865928742527402,\n",
       " 0.8851598906964763,\n",
       " 0.8934529577622391,\n",
       " 0.9022107809921945,\n",
       " 0.9043240286934544,\n",
       " 0.9095269030248615,\n",
       " 0.9136769111167657,\n",
       " 0.9161543787365228,\n",
       " 0.9213056343262185]"
      ]
     },
     "execution_count": 46,
     "metadata": {},
     "output_type": "execute_result"
    }
   ],
   "source": [
    "dice_score"
   ]
  },
  {
   "cell_type": "code",
   "execution_count": 47,
   "metadata": {},
   "outputs": [
    {
     "data": {
      "text/plain": [
       "[0.7009009067659024,\n",
       " 0.8372914559311337,\n",
       " 0.877116451660792,\n",
       " 0.8870363511421062,\n",
       " 0.9106568804493657,\n",
       " 0.8965759442912208,\n",
       " 0.9017329271192904,\n",
       " 0.9094614761847036,\n",
       " 0.9109448084124813,\n",
       " 0.9153819989275049]"
      ]
     },
     "execution_count": 47,
     "metadata": {},
     "output_type": "execute_result"
    }
   ],
   "source": [
    "val_dice_score"
   ]
  },
  {
   "cell_type": "code",
   "execution_count": 48,
   "metadata": {},
   "outputs": [
    {
     "data": {
      "text/plain": [
       "[0.1894722559222593,\n",
       " 0.09279208843696846,\n",
       " 0.07996180781246351,\n",
       " 0.0741530517072465,\n",
       " 0.06955114363784522,\n",
       " 0.06900462315815716,\n",
       " 0.06444012796934781,\n",
       " 0.059181777926537914,\n",
       " 0.06033176281642466,\n",
       " 0.053869038155660944]"
      ]
     },
     "execution_count": 48,
     "metadata": {},
     "output_type": "execute_result"
    }
   ],
   "source": [
    "loss"
   ]
  },
  {
   "cell_type": "code",
   "execution_count": 49,
   "metadata": {},
   "outputs": [
    {
     "data": {
      "text/plain": [
       "[0.5106061652854637,\n",
       " 0.16369079191375663,\n",
       " 0.10408231353870144,\n",
       " 0.11772440484276524,\n",
       " 0.08131021854502184,\n",
       " 0.09621357966076445,\n",
       " 0.08404131613119885,\n",
       " 0.08592797229411425,\n",
       " 0.07947488860399635,\n",
       " 0.07274025292308242]"
      ]
     },
     "execution_count": 49,
     "metadata": {},
     "output_type": "execute_result"
    }
   ],
   "source": [
    "val_loss"
   ]
  },
  {
   "cell_type": "code",
   "execution_count": 50,
   "metadata": {},
   "outputs": [
    {
     "data": {
      "text/plain": [
       "[0, 1, 2, 3, 4, 5, 6, 7, 8, 9]"
      ]
     },
     "execution_count": 50,
     "metadata": {},
     "output_type": "execute_result"
    }
   ],
   "source": [
    "list(epochs)"
   ]
  },
  {
   "cell_type": "markdown",
   "metadata": {},
   "source": [
    "이 값들을 이용해 그래프를 만들어 보겠습니다.  \n",
    "\n",
    "먼저 정확도 그래프를 그려볼까요?"
   ]
  },
  {
   "cell_type": "code",
   "execution_count": 51,
   "metadata": {},
   "outputs": [
    {
     "data": {
      "image/png": "[encoded data removed]",
      "text/plain": [
       "<Figure size 432x288 with 1 Axes>"
      ]
     },
     "metadata": {
      "needs_background": "light"
     },
     "output_type": "display_data"
    }
   ],
   "source": [
    "plt.plot(epochs, dice_score, 'b', color='blue', label='Training score')\n",
    "plt.plot(epochs, val_dice_score, 'b', color='red', label='Validation score')\n",
    "plt.title('Training and validation score')\n",
    "plt.legend()\n",
    "plt.show()"
   ]
  },
  {
   "cell_type": "markdown",
   "metadata": {},
   "source": [
    "다음으로 손실 그래프를 살펴보겠습니다."
   ]
  },
  {
   "cell_type": "code",
   "execution_count": 52,
   "metadata": {},
   "outputs": [
    {
     "data": {
      "image/png": "[encoded data removed]",
      "text/plain": [
       "<Figure size 432x288 with 1 Axes>"
      ]
     },
     "metadata": {
      "needs_background": "light"
     },
     "output_type": "display_data"
    }
   ],
   "source": [
    "plt.plot(epochs, loss, 'b', color='blue', label='Training loss')\n",
    "plt.plot(epochs, val_loss, 'b', color='red', label='Validation loss')\n",
    "plt.title('Training and validation loss')\n",
    "plt.legend()\n",
    "plt.show()"
   ]
  },
  {
   "cell_type": "markdown",
   "metadata": {},
   "source": [
    "# 이미지로 결과 확인하기\n",
    "\n",
    "마지막으로 AI 모델이 실제로 폐 영역을 잘 분리하는지 이미지로 결과를 확인해 보겠습니다. "
   ]
  },
  {
   "cell_type": "code",
   "execution_count": 53,
   "metadata": {},
   "outputs": [
    {
     "data": {
      "image/png": "[encoded data removed]",
      "text/plain": [
       "<Figure size 720x1440 with 15 Axes>"
      ]
     },
     "metadata": {
      "needs_background": "light"
     },
     "output_type": "display_data"
    }
   ],
   "source": [
    "fix, ax = plt.subplots(5, 3, figsize=(10,20))\n",
    "for i in range(5):\n",
    "    pred = model.predict(imgs_train[i][np.newaxis, :, : ,:])\n",
    "    mask = (pred >= 0.5).astype(np.uint8)\n",
    "    ax[i, 0].imshow(imgs_train[i, :, :, 0], cmap='gray')\n",
    "    ax[i, 1].imshow(masks_train[i, :, :, 0], cmap='gray')\n",
    "    ax[i, 2].imshow(mask[0, :, :, 0], cmap='gray')\n",
    "plt.show()"
   ]
  },
  {
   "cell_type": "code",
   "execution_count": null,
   "metadata": {},
   "outputs": [],
   "source": []
  }
 ],
 "metadata": {
  "kernelspec": {
   "display_name": "Python 3",
   "language": "python",
   "name": "python3"
  },
  "language_info": {
   "codemirror_mode": {
    "name": "ipython",
    "version": 3
   },
   "file_extension": ".py",
   "mimetype": "text/x-python",
   "name": "python",
   "nbconvert_exporter": "python",
   "pygments_lexer": "ipython3",
   "version": "3.6.7"
  }
 },
 "nbformat": 4,
 "nbformat_minor": 2
}
