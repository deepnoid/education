{
 "cells": [
  {
   "attachments": {
    "deepnoid_logo.jpg": {
     "image/jpeg": "[encoded data removed]"
    }
   },
   "cell_type": "markdown",
   "metadata": {},
   "source": [
    "![deepnoid_logo.jpg](attachment:deepnoid_logo.jpg)\n",
    "## 1. 안녕하세요~\n",
    "Deep Learning을 위한 Python 기초 강좌 입니다."
   ]
  },
  {
   "cell_type": "code",
   "execution_count": null,
   "metadata": {},
   "outputs": [],
   "source": [
    "print(\"Hello, world!\")"
   ]
  },
  {
   "cell_type": "markdown",
   "metadata": {},
   "source": [
    "## 2. 계산기 놀이"
   ]
  },
  {
   "cell_type": "code",
   "execution_count": null,
   "metadata": {},
   "outputs": [],
   "source": [
    "10 + 5"
   ]
  },
  {
   "cell_type": "code",
   "execution_count": null,
   "metadata": {},
   "outputs": [],
   "source": [
    "10 - 5"
   ]
  },
  {
   "cell_type": "code",
   "execution_count": null,
   "metadata": {},
   "outputs": [],
   "source": [
    "10 * 5"
   ]
  },
  {
   "cell_type": "code",
   "execution_count": null,
   "metadata": {},
   "outputs": [],
   "source": [
    "10 / 5"
   ]
  },
  {
   "cell_type": "code",
   "execution_count": null,
   "metadata": {},
   "outputs": [],
   "source": [
    "10 // 5"
   ]
  },
  {
   "cell_type": "code",
   "execution_count": null,
   "metadata": {},
   "outputs": [],
   "source": [
    "10 % 3"
   ]
  },
  {
   "cell_type": "code",
   "execution_count": null,
   "metadata": {},
   "outputs": [],
   "source": [
    "10 ** 5"
   ]
  },
  {
   "cell_type": "code",
   "execution_count": null,
   "metadata": {},
   "outputs": [],
   "source": [
    "10 == 5"
   ]
  },
  {
   "cell_type": "code",
   "execution_count": null,
   "metadata": {},
   "outputs": [],
   "source": [
    "10 != 5"
   ]
  },
  {
   "cell_type": "code",
   "execution_count": null,
   "metadata": {},
   "outputs": [],
   "source": [
    "10 <= 5"
   ]
  },
  {
   "cell_type": "code",
   "execution_count": null,
   "metadata": {},
   "outputs": [],
   "source": [
    "10 > 5"
   ]
  },
  {
   "cell_type": "code",
   "execution_count": null,
   "metadata": {},
   "outputs": [],
   "source": [
    "\"Hello\" + \"world\""
   ]
  },
  {
   "cell_type": "code",
   "execution_count": null,
   "metadata": {},
   "outputs": [],
   "source": [
    "\"Hello\" * 5"
   ]
  },
  {
   "cell_type": "code",
   "execution_count": null,
   "metadata": {},
   "outputs": [],
   "source": [
    "\"Hello\" + 5"
   ]
  },
  {
   "cell_type": "markdown",
   "metadata": {},
   "source": [
    "## 3. Hello, world! 3번 찍기"
   ]
  },
  {
   "cell_type": "code",
   "execution_count": null,
   "metadata": {},
   "outputs": [],
   "source": [
    "# 1번 방법\n",
    "print(\"Hello, world!\")\n",
    "print(\"Hello, world!\")\n",
    "print(\"Hello, world!\")"
   ]
  },
  {
   "cell_type": "code",
   "execution_count": null,
   "metadata": {},
   "outputs": [],
   "source": [
    "# 2번 방법\n",
    "for i in range(3):\n",
    "    print(\"Hello, world!\")"
   ]
  },
  {
   "cell_type": "code",
   "execution_count": null,
   "metadata": {},
   "outputs": [],
   "source": [
    "# 3번 방법\n",
    "print(\"Hello, world!\" * 3)"
   ]
  },
  {
   "cell_type": "markdown",
   "metadata": {},
   "source": [
    "## 4. 성별 입력 받아 출력하기"
   ]
  },
  {
   "cell_type": "code",
   "execution_count": null,
   "metadata": {},
   "outputs": [],
   "source": [
    "gender = input(\"성별을 입력해주세요. (male 또는 female) : \")\n",
    "\n",
    "if gender == \"male\":\n",
    "    print(\"남자입니다.\")\n",
    "elif gender == \"female\":\n",
    "    print(\"여자입니다.\")\n",
    "else:\n",
    "    print(\"알 수 없는 성별입니다.\")"
   ]
  },
  {
   "cell_type": "markdown",
   "metadata": {},
   "source": [
    "## 5. ???"
   ]
  },
  {
   "cell_type": "code",
   "execution_count": null,
   "metadata": {
    "scrolled": true
   },
   "outputs": [],
   "source": [
    "# ???\n",
    "def print_timesTable():\n",
    "    for i in range(2, 10):\n",
    "        print(\"====\", i, \"====\")\n",
    "        for j in range(1, 10):\n",
    "            print(i, \"x\", j, \"=\", i*j)\n",
    "\n",
    "print_timesTable()"
   ]
  },
  {
   "cell_type": "markdown",
   "metadata": {},
   "source": [
    "## 6. 글자 수 세기"
   ]
  },
  {
   "cell_type": "code",
   "execution_count": null,
   "metadata": {},
   "outputs": [],
   "source": [
    "line = \"=\" * 80\n",
    "msg = input(\"80자 이내 문장 입력 : \")\n",
    "msg = msg[:80]\n",
    "print(line)\n",
    "print(msg)\n",
    "for i in range(len(msg)):\n",
    "    if (i+1) // 10 == 0 or (i+1) % 10 != 0:\n",
    "        print(\" \", end=\"\")\n",
    "    else:\n",
    "        print((i+1) // 10, end=\"\")\n",
    "print()\n",
    "for i in range(len(msg)):\n",
    "    print((i+1) % 10, end=\"\")\n",
    "print()\n",
    "print(line)"
   ]
  },
  {
   "cell_type": "markdown",
   "metadata": {},
   "source": [
    "## 7. ???"
   ]
  },
  {
   "cell_type": "code",
   "execution_count": null,
   "metadata": {},
   "outputs": [],
   "source": [
    "def add():\n",
    "    num = int(input(\"num1:\"))\n",
    "    num2 = int(input(\"num2:\"))\n",
    "    result = num + num2\n",
    "    print(result)\n",
    "\n",
    "def sub():\n",
    "    num = int(input(\"num1:\"))\n",
    "    num2 = int(input(\"num2:\"))\n",
    "    result = num - num2\n",
    "    print(result)\n",
    "\n",
    "def multiply():\n",
    "    num = int(input(\"num1:\"))\n",
    "    num2 = int(input(\"num2:\"))\n",
    "    result = num * num2\n",
    "    print(result)\n",
    "\n",
    "def divide():\n",
    "    num = int(input(\"num1:\"))\n",
    "    num2 = int(input(\"num2:\"))\n",
    "    if num ==0 or num2 == 0:\n",
    "        print(\"Error\")\n",
    "        return\n",
    "    result = num / num2\n",
    "    print(result)\n",
    "\n",
    "while True:\n",
    "    print(\"  Menu  \")\n",
    "    print(\"--------\")\n",
    "    print(\" 1: add \")\n",
    "    print(\" 2: sub \")\n",
    "    print(\" 3: multiply\")\n",
    "    print(\" 4: divide\")\n",
    "    print(\" 5: stop\")\n",
    "    sel = int(input(\":\"))\n",
    "\n",
    "    if(sel == 1):\n",
    "        add()\n",
    "    elif(sel == 2):\n",
    "        sub()\n",
    "    elif(sel == 3):\n",
    "        multiply()\n",
    "    elif(sel == 4):\n",
    "        divide()        \n",
    "    elif(sel ==5):\n",
    "        break\n",
    "    else:\n",
    "        print(\"Wrong input, please input again\")"
   ]
  },
  {
   "cell_type": "markdown",
   "metadata": {},
   "source": [
    "## 8. 모스 부호 해독 문제"
   ]
  },
  {
   "cell_type": "code",
   "execution_count": null,
   "metadata": {},
   "outputs": [],
   "source": [
    "dic = {\n",
    "    '.-':'A', '-...':'B', '-.-.':'C', '-..':'D', '.':'E',\n",
    "    '..-.':'F', '--.':'G', '....':'H', '..':'I', '.---':'J',\n",
    "    '-.-':'K', '.-..':'L', '--':'M', '-.':'N', '---':'O',\n",
    "    '.--.':'P', '--.-':'Q', '.-.':'R', '...':'S', '-':'T',\n",
    "    '..-':'U', '...-':'V', '.--':'W', '-..-':'X', '-.--':'Y',\n",
    "    '--..':'Z'\n",
    "}\n",
    "\n",
    "def morse(src):\n",
    "    result = []\n",
    "    for word in src.split(\"  \"):\n",
    "        for char in word.split(\" \"):\n",
    "            result.append(dic[char])\n",
    "        result.append(\" \")\n",
    "    return \"\".join(result)\n",
    "\n",
    "print(morse('.... .  ... .-.. . . .--. ...  . .- .-. .-.. -.--'))"
   ]
  },
  {
   "cell_type": "markdown",
   "metadata": {},
   "source": [
    "## 9. sine 그래프 그리기"
   ]
  },
  {
   "cell_type": "code",
   "execution_count": null,
   "metadata": {},
   "outputs": [],
   "source": [
    "# Enable plotting in the current Notebook. \n",
    "%matplotlib inline\n",
    "import matplotlib\n",
    "import matplotlib.pyplot as plt\n",
    "import numpy as np\n",
    "\n",
    "# Data for plotting\n",
    "t = np.arange(0.0, 2.0, 0.01)\n",
    "s = 1 + np.sin(2 * np.pi * t)\n",
    "\n",
    "fig, ax = plt.subplots()\n",
    "ax.plot(t, s)\n",
    "\n",
    "ax.set(xlabel='time (s)', ylabel='voltage (mV)',\n",
    "       title='About as simple as it gets, folks')\n",
    "ax.grid()\n",
    "\n",
    "fig.savefig(\"test.png\")\n",
    "plt.show()"
   ]
  },
  {
   "cell_type": "code",
   "execution_count": null,
   "metadata": {},
   "outputs": [],
   "source": []
  }
 ],
 "metadata": {
  "kernelspec": {
   "display_name": "Python 3",
   "language": "python",
   "name": "python3"
  },
  "language_info": {
   "codemirror_mode": {
    "name": "ipython",
    "version": 3
   },
   "file_extension": ".py",
   "mimetype": "text/x-python",
   "name": "python",
   "nbconvert_exporter": "python",
   "pygments_lexer": "ipython3",
   "version": "3.6.7"
  }
 },
 "nbformat": 4,
 "nbformat_minor": 2
}
