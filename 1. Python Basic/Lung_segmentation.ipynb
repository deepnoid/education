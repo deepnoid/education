{
  "nbformat": 4,
  "nbformat_minor": 0,
  "metadata": {
    "colab": {
      "name": "Untitled0.ipynb",
      "provenance": [],
      "include_colab_link": true
    },
    "kernelspec": {
      "name": "python3",
      "display_name": "Python 3"
    },
    "accelerator": "GPU"
  },
  "cells": [
    {
      "cell_type": "markdown",
      "metadata": {
        "id": "view-in-github",
        "colab_type": "text"
      },
      "source": [
        "<a href=\"https://colab.research.google.com/github/deepnoid/education/blob/master/1.%20Python%20Basic/Lung_segmentation.ipynb\" target=\"_parent\"><img src=\"https://colab.research.google.com/assets/colab-badge.svg\" alt=\"Open In Colab\"/></a>"
      ]
    },
    {
      "cell_type": "code",
      "metadata": {
        "id": "U4Vg8cZUFH6b",
        "colab_type": "code",
        "colab": {}
      },
      "source": [
        "!git clone https://github.com/deepnoid/education.git\n",
        "!pip install SimpleITK"
      ],
      "execution_count": 0,
      "outputs": []
    },
    {
      "cell_type": "markdown",
      "metadata": {
        "id": "l0yAZxlMG8C6",
        "colab_type": "text"
      },
      "source": [
        "# 라이브러리 불러오기"
      ]
    },
    {
      "cell_type": "code",
      "metadata": {
        "id": "ihkkXFZcjDJV",
        "colab_type": "code",
        "colab": {}
      },
      "source": [
        "import numpy as np\n",
        "import os\n",
        "import copy\n",
        "import SimpleITK as sitk\n",
        "from glob import glob\n",
        "from matplotlib import pyplot as plt"
      ],
      "execution_count": 0,
      "outputs": []
    },
    {
      "cell_type": "markdown",
      "metadata": {
        "id": "oYwmbeNZHAKb",
        "colab_type": "text"
      },
      "source": [
        "# 함수 코드"
      ]
    },
    {
      "cell_type": "code",
      "metadata": {
        "id": "HpsXsYNbkXMV",
        "colab_type": "code",
        "colab": {},
        "cellView": "form"
      },
      "source": [
        "#@title\n",
        "def make_sample(sample):\n",
        "    print('< make_sample >')\n",
        "    show_image(sample)\n",
        "    return copy.deepcopy(sample)\n",
        "\n",
        "def show_image(img):\n",
        "    plt.imshow(img, cmap='gray')\n",
        "    plt.show()\n",
        "\n",
        "def make_mask1(sample, min_val, max_val):\n",
        "    sample[np.logical_or(sample<min_val, max_val<sample)] = 0\n",
        "    sample[np.logical_and(min_val<=sample, sample<=max_val)] = 1\n",
        "    print('< make_mask1 >')    \n",
        "    show_image(sample)\n",
        "    return sample\n",
        "\n",
        "def make_mask2(img, min_val=-1300, max_val=-450):\n",
        "    img = sitk.GetImageFromArray(img)\n",
        "    width, height = img.GetSize()\n",
        "\n",
        "    gaussian = sitk.SmoothingRecursiveGaussianImageFilter()\n",
        "    gaussian.SetSigma(1)\n",
        "    img = gaussian.Execute(img)\n",
        "    seed_x1 = int(width*16/64)\n",
        "    seed_x2 = int(width*46/64)\n",
        "    seed_y = int(height*30/64)\n",
        "    \n",
        "    right_lobe_seed1 = (seed_x1, seed_y)\n",
        "    right_lobe_seed2 = (seed_x1, seed_y)\n",
        "    right_lobe_seed3 = (seed_x1, seed_y)\n",
        "    left_lobe_seed1 = (seed_x2, seed_y)\n",
        "    left_lobe_seed2 = (seed_x2, seed_y)\n",
        "    left_lobe_seed3 = (seed_x2, seed_y)\n",
        "    \n",
        "    seed = [right_lobe_seed1, left_lobe_seed1, right_lobe_seed2, left_lobe_seed2, right_lobe_seed3, left_lobe_seed3]\n",
        "    mask = sitk.ConnectedThreshold(img, seedList=seed, lower=min_val, upper=max_val)\n",
        "    mask_arr = sitk.GetArrayFromImage(mask)\n",
        "    print('< make_mask2 >')    \n",
        "    show_image(mask_arr)\n",
        "    return mask_arr\n",
        "\n",
        "def slice_image1(img, Y_MIN, Y_MAX, X_MIN, X_MAX):\n",
        "    sliced_img = img[Y_MIN:Y_MAX, X_MIN:X_MAX]\n",
        "    extendbox = np.array([[Y_MIN, Y_MAX], [X_MIN, X_MAX]])\n",
        "    print('< slice_image1 >')    \n",
        "    show_image(sliced_img)\n",
        "    return sliced_img, extendbox\n",
        "\n",
        "def slice_image2(img):\n",
        "    newshape = img.shape\n",
        "    xx, yy = np.where(img)\n",
        "    box = np.array([[np.min(xx), np.max(xx)], [np.min(yy), np.max(yy)]])\n",
        "    margin = 5\n",
        "    extendbox = np.vstack(\n",
        "        [np.max([[0, 0], box[:, 0] - margin], 0), np.min([newshape, box[:, 1] + 2 * margin], axis=0).T]).T\n",
        "    extendbox = extendbox.astype('int')\n",
        "    sliced_img = img[\n",
        "        extendbox[0, 0]:extendbox[0, 1],\n",
        "        extendbox[1, 0]:extendbox[1, 1]\n",
        "    ]\n",
        "    print('< slice_image2 >')    \n",
        "    show_image(sliced_img)\n",
        "    return sliced_img, extendbox\n",
        "\n",
        "def make_smaller_image(img, erosion=3):\n",
        "    img = sitk.GetImageFromArray(img)\n",
        "    eroded_img = sitk.BinaryErode(img, erosion)\n",
        "    eroded_img = sitk.GetArrayFromImage(eroded_img)\n",
        "    print('< make_smaller_image >')    \n",
        "    show_image(eroded_img)\n",
        "    return eroded_img\n",
        "\n",
        "def make_larger_image(img, dilation=7):\n",
        "    img = sitk.GetImageFromArray(img)\n",
        "    dilated_img = sitk.BinaryDilate(img, dilation)\n",
        "    dilated_img = sitk.GetArrayFromImage(dilated_img)\n",
        "    print('< make_larger_image >')    \n",
        "    show_image(dilated_img)\n",
        "    return dilated_img\n",
        "\n",
        "def fill_hole(img, filter_size=7):\n",
        "    closing = sitk.BinaryMorphologicalClosingImageFilter()\n",
        "    closing.SetForegroundValue(1)\n",
        "    closing.SetKernelRadius(filter_size)\n",
        "    img = sitk.GetImageFromArray(img)\n",
        "    img = closing.Execute(img)\n",
        "    img = sitk.GetArrayFromImage(img)\n",
        "    print('< fill_hole >')\n",
        "    show_image(img)\n",
        "    return img\n",
        "\n",
        "def show_final_image(original_img, img, extendbox):\n",
        "    newshape = img.shape\n",
        "    xx, yy = np.where(img)\n",
        "    box = np.array([[np.min(xx), np.max(xx)], [np.min(yy), np.max(yy)]])\n",
        "    margin = 5\n",
        "    sliced_img = original_img[\n",
        "        extendbox[0, 0]:extendbox[0, 1],\n",
        "        extendbox[1, 0]:extendbox[1, 1]\n",
        "    ]\n",
        "    masked_img = sliced_img * img\n",
        "    print('< show_final_image >')    \n",
        "    fig, ax = plt.subplots(1, 2, figsize=(10, 20))\n",
        "    ax[0].imshow(original_img, cmap='gray')\n",
        "    ax[1].imshow(masked_img, cmap='gray')\n",
        "    plt.show() "
      ],
      "execution_count": 0,
      "outputs": []
    },
    {
      "cell_type": "markdown",
      "metadata": {
        "id": "AtiotHfUHD5E",
        "colab_type": "text"
      },
      "source": [
        "# 이미지 불러오기"
      ]
    },
    {
      "cell_type": "code",
      "metadata": {
        "id": "KN4Q6X_JFvOy",
        "colab_type": "code",
        "colab": {}
      },
      "source": [
        "base_path = r'./education/8. Dataset/lung_sample.npz'\n",
        "lung_sample = np.load(base_path)\n",
        "image_1 = lung_sample['sample1']\n",
        "image_2 = lung_sample['sample2']\n",
        "image_3 = lung_sample['sample3']"
      ],
      "execution_count": 0,
      "outputs": []
    },
    {
      "cell_type": "markdown",
      "metadata": {
        "id": "CNa-fgsuGJR4",
        "colab_type": "text"
      },
      "source": [
        "# 함수 모음 \n",
        "\n",
        "#### 1. 이미지 출력 : show_image(image_xxx)\n",
        "-- show_image(image_xxx)\n",
        "\n",
        "#### 2. 샘플 이미지 만들기 : make_sample(sample1)  \n",
        "-- sample = make_sample(image_xxx)  \n",
        "\n",
        "#### 3. 폐 영역 마스크 만들기 1 : make_mask1(sample, MIN_VAL, MAX_VAL)\n",
        "-- sample = make_mask1(sample, MIN_VAL, MAX_VAL)\n",
        "\n",
        "#### 4. 폐 영역 마스크 만들기 2 : make_mask2(sample, MIN_VAL, MAX_VAL)\n",
        "-- sample = make_mask2(sample, MIN_VAL, MAX_VAL)\n",
        "\n",
        "#### 5. 이미지 범위 넓히기 : make_larger_image(sample, LARGER_RATE)\n",
        "-- sample = make_larger_image(sample, LARGER_RATE)\n",
        "\n",
        "#### 6. 이미지 범위 줄이기 : make_smaller_image(sample, SMALLER_RATE)\n",
        "-- sample = make_smaller_image(sample, SMALLER_RATE)\n",
        "\n",
        "#### 7. 구멍 메꾸기 : fill_hole(sample, FILL_SIZE)\n",
        "-- sample = fill_hole(sample, FILL_SIZE)\n",
        "\n",
        "#### 8. 이미지 자르기 1 : slice_image1(sample, Y_MIN, Y_MAX, X_MIN, X_MAX)\n",
        "-- sample, box = slice_image1(sample, Y_MIN, Y_MAX, X_MIN, X_MAX)\n",
        "\n",
        "#### 9. 이미지 자르기 2 : slice_image2(sample)\n",
        "-- sample, box = slice_image2(sample)\n",
        "\n",
        "#### 10. 최종 이미지 출력 : show_final_image(image_x, sample, box)\n",
        "-- show_final_image(image_xxx, sample, box)"
      ]
    },
    {
      "cell_type": "markdown",
      "metadata": {
        "id": "HtdVj1utGms3",
        "colab_type": "text"
      },
      "source": [
        "# 옵션값 모음"
      ]
    },
    {
      "cell_type": "code",
      "metadata": {
        "id": "DNtQBzBDF-iN",
        "colab_type": "code",
        "colab": {}
      },
      "source": [
        "MIN_VAL = -1000  # 최소 밝기\n",
        "MAX_VAL = -450   # 최대 밝기\n",
        "FILL_SIZE = 7    # 구멍 메꾸는 정도(클수록 많이 메꿈)\n",
        "LARGER_RATE = 7  # 이미지 범위 넓히는 정도(클수록 더 넓혀짐)\n",
        "SMALLER_RATE = 7 # 이미지 범위 좁히는 정도(클수록 더 좁혀짐)\n",
        "Y_MIN = 150\n",
        "Y_MAX = 400\n",
        "X_MIN = 90\n",
        "X_MAX = 400"
      ],
      "execution_count": 0,
      "outputs": []
    },
    {
      "cell_type": "code",
      "metadata": {
        "id": "wEt7QFKuGoXt",
        "colab_type": "code",
        "colab": {}
      },
      "source": [
        ""
      ],
      "execution_count": 0,
      "outputs": []
    }
  ]
}